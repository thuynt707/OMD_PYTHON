{
 "cells": [
  {
   "cell_type": "markdown",
   "source": [
    "# Python - Lập trình hướng đối tượng"
   ],
   "metadata": {
    "tags": []
   }
  },
  {
   "cell_type": "markdown",
   "source": [
    "## Khai báo class\n",
    "\n",
    "Khai báo một class mới với từ khóa `class`. Theo quy ước, tên class có dạng UpperCamelCase (ký tự đầu tiên của mỗi từ được viết hoa). Khi khai báo, một Class Object mới được tạo.\n",
    "\n",
    "💡 Khai báo Class xác định một kiểu dữ liệu tùy chỉnh"
   ],
   "metadata": {
    "tags": []
   }
  },
  {
   "cell_type": "code",
   "execution_count": 1,
   "source": [
    "class Cat:\r\n",
    "    \"\"\"Lớp mô tả cho các con mèo\"\"\"\r\n",
    "    pass\r\n",
    "\r\n",
    "print(id(Cat))\r\n",
    "print(Cat.__doc__)\r\n",
    "print(Cat)\r\n",
    "\r\n",
    "# Tương tự như những kiểu được định nghĩa sẵn\r\n",
    "print(int)"
   ],
   "outputs": [
    {
     "output_type": "stream",
     "name": "stdout",
     "text": [
      "2623315713768\n",
      "Lớp mô tả cho các con mèo\n",
      "<class '__main__.Cat'>\n",
      "<class 'int'>\n"
     ]
    }
   ],
   "metadata": {}
  },
  {
   "cell_type": "markdown",
   "source": [
    "## Khởi tạo instance object\n",
    "\n",
    "Từ class, chúng ta có thể tạo ra các objects, object là một thể hiện (instance) của class"
   ],
   "metadata": {
    "tags": []
   }
  },
  {
   "cell_type": "code",
   "execution_count": 2,
   "source": [
    "# Tạo ra 2 con mèo\r\n",
    "lucy = Cat()\r\n",
    "kitty = Cat()\r\n",
    "\r\n",
    "print(id(lucy), id(kitty))\r\n",
    "\r\n",
    "print()\r\n",
    "print(lucy)\r\n",
    "print(type(lucy))\r\n",
    "\r\n",
    "# Kiểm tra một object có phải instance của class cụ thể hay không\r\n",
    "print(isinstance(lucy, Cat))"
   ],
   "outputs": [
    {
     "output_type": "stream",
     "name": "stdout",
     "text": [
      "2623327719816 2623327719624\n",
      "\n",
      "<__main__.Cat object at 0x00000262CA845188>\n",
      "<class '__main__.Cat'>\n",
      "True\n"
     ]
    }
   ],
   "metadata": {}
  },
  {
   "cell_type": "markdown",
   "source": [
    "## Khai báo phương thức\n",
    "\n",
    "Khai báo một phương thức trong class tương tự như khai báo hàm thông thường, ngoại trừ việc nó có một tham số bắt buộc `self`. Các phương thức sẽ được chia sẻ chung bởi các đối tượng được tạo từ class"
   ],
   "metadata": {}
  },
  {
   "cell_type": "code",
   "execution_count": null,
   "source": [
    "class Cat:\r\n",
    "    \"\"\"Lớp mô tả cho các con mèo\"\"\"\r\n",
    "\r\n",
    "    def run(self):\r\n",
    "        print(\"Running\")\r\n",
    "\r\n",
    "    def meow(self):\r\n",
    "        print(\"Meow meow\")\r\n",
    "\r\n",
    "    def eat(self):\r\n",
    "        print(\"Eating\")\r\n",
    "\r\n",
    "    def sleep(self):\r\n",
    "        print(\"Sleeping\")"
   ],
   "outputs": [],
   "metadata": {}
  },
  {
   "cell_type": "markdown",
   "source": [
    "## Gọi phương thức\n",
    "\n",
    "Để gọi phương thức trên một đối tượng cụ thể, sử dụng cú pháp `object_name.method_name()`"
   ],
   "metadata": {}
  },
  {
   "cell_type": "code",
   "execution_count": null,
   "source": [
    "lucy = Cat()\r\n",
    "kitty = Cat()\r\n",
    "\r\n",
    "# Phương thức được chia sẻ chung giữa các đối tượng\r\n",
    "lucy.meow()\r\n",
    "lucy.run()\r\n",
    "\r\n",
    "kitty.meow()\r\n",
    "kitty.run()"
   ],
   "outputs": [],
   "metadata": {}
  },
  {
   "cell_type": "markdown",
   "source": [
    "## Tham số Self\n",
    "\n",
    "Khi khai báo các phương thức cho một lớp, bắt buộc phải có tham số `self` (theo quy ước, có thể sử dụng tên khác ví dụ `this`), mặc dù vậy khi gọi phương thức, chúng ta không cần truyền giá trị cho nó. Python sẽ tự xác định giá trị cho `self`, chính là đối tượng gọi phương thức"
   ],
   "metadata": {}
  },
  {
   "cell_type": "code",
   "execution_count": null,
   "source": [
    "class Cat:\r\n",
    "    \"\"\"Lớp mô tả cho các con mèo\"\"\"\r\n",
    "    def meow(self):\r\n",
    "        print(self, \"Meow meow\")\r\n",
    "\r\n",
    "lucy = Cat()\r\n",
    "kitty = Cat()\r\n",
    "\r\n",
    "lucy.meow() # self = lucy\r\n",
    "kitty.meow() # self = kitty\r\n",
    "\r\n",
    "# Tương tự với cách gọi này\r\n",
    "Cat.meow(lucy) # self = lucy\r\n",
    "Cat.meow(kitty) # self = kitty"
   ],
   "outputs": [],
   "metadata": {}
  },
  {
   "cell_type": "markdown",
   "source": [
    "## Instance variables\n",
    "\n",
    "Instance variables - thuộc tính là các giá trị riêng của mỗi object, có thể khai báo và gán giá trị giống như một biến thông thường, cú pháp `object.property_name = value`"
   ],
   "metadata": {}
  },
  {
   "cell_type": "code",
   "execution_count": null,
   "source": [
    "lucy.breed = \"Persian\"\r\n",
    "lucy.name = \"Lucy\"\r\n",
    "lucy.age = 2\r\n",
    "lucy.color = \"White\"\r\n",
    "\r\n",
    "print(lucy.name)\r\n",
    "print(lucy.color)\r\n",
    "\r\n",
    "print(kitty.name) # Error"
   ],
   "outputs": [],
   "metadata": {}
  },
  {
   "cell_type": "markdown",
   "source": [
    "## Truy cập thuộc tính trong phương thức\n",
    "\n",
    "Các phương thức có thể truy cập đến thuộc tính bên trong đối tượng thông qua `self`, cú pháp `self.property_name`"
   ],
   "metadata": {}
  },
  {
   "cell_type": "code",
   "execution_count": null,
   "source": [
    "class Cat:\r\n",
    "    def eat(self):\r\n",
    "        print(self.name, \"is eating\")\r\n",
    "\r\n",
    "lucy = Cat()\r\n",
    "kitty = Cat()\r\n",
    "\r\n",
    "lucy.name = \"Lucy\"\r\n",
    "kitty.name = \"Kitty\"\r\n",
    " \r\n",
    "lucy.eat() # self = lucy => self.name = lucy.name\r\n",
    "kitty.eat() # self = kitty => self.name = kitty.name"
   ],
   "outputs": [],
   "metadata": {}
  },
  {
   "cell_type": "markdown",
   "source": [
    "Ngoài ra, một phương thức cũng có thể được dùng để khai báo một thuộc tính hay gọi đến phương thức khác của chính đối tượng cũng thông qua `self`"
   ],
   "metadata": {}
  },
  {
   "cell_type": "code",
   "execution_count": null,
   "source": [
    "class Dog:\r\n",
    "    def set_details(self, name):\r\n",
    "        self.name = name\r\n",
    "\r\n",
    "    def bark(self):\r\n",
    "        print(\"Woof woof\")\r\n",
    "\r\n",
    "    def run(self):\r\n",
    "        self.bark()\r\n",
    "        print(self.name, \"is running\")\r\n",
    "\r\n",
    "milo = Dog()\r\n",
    "milo.set_details(\"Milo\") # self = milo => self.name = milo.name\r\n",
    "milo.run() # self = milo => self.bark() = milo.bark()"
   ],
   "outputs": [],
   "metadata": {}
  },
  {
   "cell_type": "markdown",
   "source": [
    "### Exercise\n",
    "\n",
    "Khai báo một class BankAccount đại diện cho một tài khoản ngân hàng, có 4 phương thức:\n",
    "- `set_details(account_number, account_name, balance)`: tạo 3 instance variable tương ứng (mặc định `balance = 0`)\n",
    "- `display()`: Hiển thị thông tin tài khoản\n",
    "- `withdraw(amount)` và `deposit(amount)`: thực hiện trừ tiền và nạp tiền với giá trị `amount` tương ứng\n",
    "\n",
    "💡 Chú ý tham số"
   ],
   "metadata": {}
  },
  {
   "cell_type": "code",
   "execution_count": 14,
   "source": [
    "class BankAccount():\r\n",
    "    def __init__(self, account_number, account_name, balance=0):\r\n",
    "        self.acc_number = account_number\r\n",
    "        self.acc_name = account_name\r\n",
    "        self.balance = balance\r\n",
    "    def display(self):\r\n",
    "        print(self.acc_number, self.acc_name, self.balance)\r\n",
    "    def withdraw(self, amount):\r\n",
    "        self.balance -= amount\r\n",
    "        self.display()\r\n",
    "    def deposit(self, amount):\r\n",
    "        self.balance += amount\r\n",
    "        self.display()\r\n",
    "acc1 = BankAccount(123456, \"Thuy\")\r\n",
    "\r\n",
    "acc1.deposit(100000000)\r\n",
    "\r\n",
    "acc1.withdraw(1000000)\r\n",
    "\r\n"
   ],
   "outputs": [
    {
     "output_type": "stream",
     "name": "stdout",
     "text": [
      "123456 Thuy 100000000\n",
      "123456 Thuy 99000000\n"
     ]
    }
   ],
   "metadata": {}
  },
  {
   "cell_type": "markdown",
   "source": [
    "## Hàm khởi tạo\n",
    "\n",
    "Thay vì khai báo thuộc tính sau khi khởi tạo đối tượng, có thể khai báo một phương thức đặc biệt **`__init__()`** - được gọi là hàm khởi tạo\n",
    "\n",
    "Phương thức **`__init__()`** sẽ được gọi ngay sau khi đối tượng được khởi tạo, thông thường nó sẽ có nhiệm vụ khai báo instance variables.\n",
    "\n",
    "Các đối số cho **`__init__()`** được truyền ngay trong cú pháp khởi tạo đối tượng"
   ],
   "metadata": {}
  },
  {
   "cell_type": "code",
   "execution_count": null,
   "source": [
    "class Dog:\r\n",
    "    def __init__(self, breed, gender, name, age, color):\r\n",
    "        self.breed = breed\r\n",
    "        self.gender = gender\r\n",
    "        self.name = name\r\n",
    "        self.age = age\r\n",
    "        self.color = color\r\n",
    "    \r\n",
    "    def bark(self):\r\n",
    "        print(self.name, \"woof woof\")\r\n",
    "        \r\n",
    "\r\n",
    "milo = Dog(\"Corgi\", \"Male\", \"Milo\", 1, \"Brown\")\r\n",
    "\r\n",
    "milo.bark()"
   ],
   "outputs": [],
   "metadata": {}
  },
  {
   "cell_type": "markdown",
   "source": [
    "### Exercise\n",
    "\n",
    "Chuyển đổi phương thức `set_details()` của class `BankAccount` thành `__init__()`"
   ],
   "metadata": {}
  },
  {
   "cell_type": "markdown",
   "source": [
    "## Data hiding\n",
    "\n",
    "Mã bên ngoài không được phép truy cập trực tiếp tới các thuộc tính hay phương thức private"
   ],
   "metadata": {}
  },
  {
   "cell_type": "code",
   "execution_count": null,
   "source": [
    "class Product:\r\n",
    "    def __init__(self, cost, price):\r\n",
    "        self._cost = cost               # Private\r\n",
    "        self.price = price              # Public\r\n",
    "\r\n",
    "    def _profit(self):                   # Private\r\n",
    "        pass\r\n",
    "\r\n",
    "    def order(self):                    # Public\r\n",
    "        pass\r\n",
    "\r\n",
    "ip = Product(888, 999)\r\n",
    "\r\n",
    "# Các thuộc tính và phương thức này vẫn có thể truy cập trực tiếp\r\n",
    "print(ip._cost)\r\n",
    "print(ip._profit())\r\n",
    "\r\n",
    "print(ip.price)\r\n",
    "print(ip.order())"
   ],
   "outputs": [],
   "metadata": {}
  },
  {
   "cell_type": "markdown",
   "source": [
    "💡 Ngoài ra, còn một số quy ước đặt tên khác sử dụng dấu _"
   ],
   "metadata": {}
  },
  {
   "cell_type": "code",
   "execution_count": null,
   "source": [
    "class Product:\r\n",
    "    def __init__(self, cost):\r\n",
    "        self.__cost = cost              # Sử dụng 2 dấu gạch trước tên để tránh xung đột\r\n",
    "        # __cost => _Product__cost      # với các thuộc tính của lớp con\r\n",
    "\r\n",
    "class_ = \"abc\"                          # Sử dụng 1 dấu gạch ở sau tên để tránh xung đột\r\n",
    "list_ = 123                             # với built-in type"
   ],
   "outputs": [],
   "metadata": {}
  },
  {
   "cell_type": "markdown",
   "source": [
    "## Getter/Setter\n",
    "\n",
    "Khi sử dụng thuộc tính ẩn, chúng ta cần hạn chế truy cập trực tiếp đến nó. Thay vào đó, triển khai các phương thức để truy cập như getter (để đọc giá trị) và setter (để đặt giá trị) cho thuộc tính.\n",
    "\n",
    "Getter/setter hữu ích trong việc kiểm soát quyền truy cập và xác thực dữ liệu trước khi thay đổi một giá trị,  cho phép biến một thuộc tính thành dạng chỉ đọc (chỉ triển khai getter) hay chỉ ghi (chỉ triển khai setter)"
   ],
   "metadata": {}
  },
  {
   "cell_type": "code",
   "execution_count": null,
   "source": [
    "class Person:\r\n",
    "    def __init__(self, name, age):\r\n",
    "        self._name = name\r\n",
    "        self.set_age(age)\r\n",
    "\r\n",
    "    def get_name(self):\r\n",
    "        return self._name\r\n",
    "\r\n",
    "    def get_age(self):\r\n",
    "        return self._age\r\n",
    "\r\n",
    "    def set_age(self, new_age):\r\n",
    "        if 0 < new_age < 100:\r\n",
    "            self._age = new_age\r\n",
    "        else:\r\n",
    "            print(\"Tuổi không hợp lệ\")\r\n",
    "    \r\n",
    "    def display(self):\r\n",
    "        print(f\"{self.get_name()} - {self.get_age()}\")\r\n",
    "\r\n",
    "ba = Person(\"Ba\", 29)\r\n",
    "ba.display()"
   ],
   "outputs": [],
   "metadata": {}
  },
  {
   "cell_type": "markdown",
   "source": [
    "### Exercise\n",
    "\n",
    "Thay đổi các thuộc tính `account_number`, `account_name`, `balance` trong class `BankAccount` thành thuộc tính ẩn, và triển khai thêm các phương thức:\n",
    "\n",
    "- `get_account_number()`\n",
    "- `get_account_name()`\n",
    "- `get_balance()`\n",
    "- `set_balance()` - `balance` phải lớn hơn hoặc bằng `0`\n",
    "\n",
    "Thay đổi các phương thức `display()`, `withdraw()` và `deposit()` sử dụng các phương thức getter và setter trên.\n",
    "\n",
    "Chú ý:\n",
    "\n",
    "- Với `withdraw()`, `amount` phải lớn hơn `0` và nhỏ hơn `balance`\n",
    "- Với `deposit()`, `amount` phải lớn hơn `0`\n",
    "\n",
    "Nếu giá trị không phù hợp thì thông báo ra `console`"
   ],
   "metadata": {}
  },
  {
   "cell_type": "code",
   "execution_count": null,
   "source": [
    "class BankAccount:\r\n",
    "    def __init__(self, account_number, account_name, balance=0):\r\n",
    "        self._account_number = account_number\r\n",
    "        self._account_name = account_name\r\n",
    "\r\n",
    "        # Gọi set_balance để validate\r\n",
    "        # thay vì self._balance = balance\r\n",
    "        self.set_balance(balance)\r\n",
    "\r\n",
    "    def get_account_number(self):\r\n",
    "        return self._account_number\r\n",
    "\r\n",
    "    def get_account_name(self):\r\n",
    "        return self._account_name\r\n",
    "\r\n",
    "    def get_balance(self):\r\n",
    "        return self._balance\r\n",
    "\r\n",
    "    def set_balance(self, balance):\r\n",
    "        if balance >= 0:\r\n",
    "            self._balance = balance\r\n",
    "        else:\r\n",
    "            # raise phát ra một ngoại lệ (lỗi)\r\n",
    "            # Tạm thời chấp nhận sử dụng print\r\n",
    "            raise ValueError(\"Số dư phải lớn hơn 0\")\r\n",
    "\r\n",
    "    def display(self):\r\n",
    "        # Khi sử dụng getter và setter, các phương thức khác cần truy cập\r\n",
    "        # thuộc tính cũng nên gọi qua getter và setter\r\n",
    "        print(self.get_account_number(),\r\n",
    "              self.get_account_name(), self.get_balance(), \"₫\")\r\n",
    "\r\n",
    "    def withdraw(self, amount):\r\n",
    "        if 0 < amount <= self.get_balance():\r\n",
    "            self.set_balance(self.get_balance() - amount)\r\n",
    "        else:\r\n",
    "            raise ValueError(\r\n",
    "                \"Số tiền phải lớn hơn 0 và không được vượt quá số dư hiện tại\")\r\n",
    "\r\n",
    "    def deposit(self, amount):\r\n",
    "        if amount > 0:\r\n",
    "            self.set_balance(self.get_balance() + amount)\r\n",
    "        else:\r\n",
    "            raise ValueError(\"Số tiền phải lớn hơn 0\")\r\n",
    "\r\n",
    "\r\n",
    "my_account = BankAccount(1, \"Ba\", 1_000_000_000_000_000_000)\r\n",
    "my_account.deposit(1_000_000_000_000_000_000)\r\n",
    "my_account.display()\r\n",
    "\r\n",
    "my_account.withdraw(100_000_000)  # quá nhỏ bé 😊\r\n",
    "my_account.display()\r\n"
   ],
   "outputs": [],
   "metadata": {}
  },
  {
   "cell_type": "markdown",
   "source": [
    "## @property\n",
    "\n",
    "Getter/setter phổ biến ở trong các ngôn ngữ khác như Java, tuy nhiên, Python hỗ trợ một cú pháp đơn giản gọn gàng hơn sử dụng **`@property`**\n",
    "\n",
    "💡 **`@property`** được gọi là **decorator**, đây là một khái niệm nâng cao (Higher-Order Function). Có nhiều decorator khác nhau có sẵn, hoặc cũng có thể tự định nghĩa decorator.\n",
    "\n",
    "Trong trường hợp này hiểu đơn giản decorator giống như thẻ đánh dấu HTML, nó đánh dấu một phương thức và coi nó giống như một thuộc tính thông thường"
   ],
   "metadata": {}
  },
  {
   "cell_type": "code",
   "execution_count": 29,
   "source": [
    "class Person:\r\n",
    "    def __init__(self, name, age):\r\n",
    "        self._name = name\r\n",
    "        self._age = age\r\n",
    "\r\n",
    "    @property                       # Getter\r\n",
    "    def name(self):                 # Khai báo thuộc tính name\r\n",
    "        return self._name\r\n",
    "\r\n",
    "    @property                       # Setter\r\n",
    "    def age(self):                  # Khai báo thuộc tính age\r\n",
    "        return self._age\r\n",
    "\r\n",
    "    @age.setter\r\n",
    "    def age(self, new_age):         # Khai báo setter cho age\r\n",
    "        if 0 < new_age < 100:\r\n",
    "            self._age = new_age\r\n",
    "        else:\r\n",
    "            print(\"Tuổi không hợp lệ\")\r\n",
    "\r\n",
    "    @age.deleter                    # Khai báo deleter\r\n",
    "    def age(self):                  # Deleter được gọi khi muốn xóa thuộc tính\r\n",
    "        print(\"Xóa thuộc tính _age\")\r\n",
    "\r\n",
    "    def display(self):\r\n",
    "        print(f\"{self.name} - {self.age}\")  # Truy cập giống như thuộc tính thông thường\r\n",
    "\r\n",
    "\r\n",
    "ba = Person(\"Ba\", 29)\r\n",
    "ba.display()\r\n",
    "\r\n",
    "print(ba.name)      # Gọi getter\r\n",
    "\r\n",
    "ba.age = 30         # Gọi setter, new_age = 30\r\n",
    "print(ba.age)\r\n",
    "\r\n",
    "del ba.age\r\n",
    "print(ba.age)\r\n",
    "\r\n",
    "ba.name = \"Béo\"     # Error, không có setter"
   ],
   "outputs": [
    {
     "output_type": "stream",
     "name": "stdout",
     "text": [
      "Ba - 29\n",
      "Ba\n",
      "30\n",
      "Xóa thuộc tính _age\n",
      "30\n"
     ]
    },
    {
     "output_type": "error",
     "ename": "AttributeError",
     "evalue": "can't set attribute",
     "traceback": [
      "\u001b[0;31m---------------------------------------------------------------------------\u001b[0m",
      "\u001b[0;31mAttributeError\u001b[0m                            Traceback (most recent call last)",
      "\u001b[0;32m/var/folders/t1/rmz8kpqx6mv_hxwdd62xpxq40000gn/T/ipykernel_2982/521135842.py\u001b[0m in \u001b[0;36m<module>\u001b[0;34m\u001b[0m\n\u001b[1;32m     38\u001b[0m \u001b[0mprint\u001b[0m\u001b[0;34m(\u001b[0m\u001b[0mba\u001b[0m\u001b[0;34m.\u001b[0m\u001b[0mage\u001b[0m\u001b[0;34m)\u001b[0m\u001b[0;34m\u001b[0m\u001b[0;34m\u001b[0m\u001b[0m\n\u001b[1;32m     39\u001b[0m \u001b[0;34m\u001b[0m\u001b[0m\n\u001b[0;32m---> 40\u001b[0;31m \u001b[0mba\u001b[0m\u001b[0;34m.\u001b[0m\u001b[0mname\u001b[0m \u001b[0;34m=\u001b[0m \u001b[0;34m\"Béo\"\u001b[0m     \u001b[0;31m# Error, không có setter\u001b[0m\u001b[0;34m\u001b[0m\u001b[0;34m\u001b[0m\u001b[0m\n\u001b[0m",
      "\u001b[0;31mAttributeError\u001b[0m: can't set attribute"
     ]
    }
   ],
   "metadata": {}
  },
  {
   "cell_type": "markdown",
   "source": [
    "Một ví dụ khác hữu ích của **`@property`** là khai báo các thuộc tính với giá trị được tính toán dựa trên những giá trị khác, tự động cập nhật khi các giá trị phụ thuộc thay đổi, đồng thời không cho phép người dùng tùy chỉnh giá trị này"
   ],
   "metadata": {}
  },
  {
   "cell_type": "code",
   "execution_count": 2,
   "source": [
    "class Rectangle:\r\n",
    "    def __init__(self, length, breadth):\r\n",
    "        self.length = length\r\n",
    "        self.breadth = breadth\r\n",
    "\r\n",
    "    @property\r\n",
    "    def diagonal(self):\r\n",
    "        return (self.length ** 2 + self.breadth ** 2) ** 0.5\r\n",
    "\r\n",
    "\r\n",
    "r = Rectangle(2, 5)\r\n",
    "print(r.diagonal)\r\n",
    "\r\n",
    "r.length = 5\r\n",
    "print(r.diagonal)"
   ],
   "outputs": [
    {
     "output_type": "stream",
     "name": "stdout",
     "text": [
      "5.385164807134504\n",
      "7.0710678118654755\n"
     ]
    }
   ],
   "metadata": {}
  },
  {
   "cell_type": "markdown",
   "source": [
    "### Exercise\n",
    "\n",
    "Thay thế getter/setter trong class `BankAccount` thành property tương ứng, chỉnh sửa các phương thức `withdraw()` và `deposit()` sử dụng property"
   ],
   "metadata": {}
  },
  {
   "cell_type": "code",
   "execution_count": 11,
   "source": [
    "class BankAccount:\r\n",
    "    def __init__(self, account_number, account_name, balance=0):\r\n",
    "        self._account_number = account_number\r\n",
    "        self._account_name = account_name\r\n",
    "        self.balance = balance #goi @balance.setter\r\n",
    "    \r\n",
    "    @property\r\n",
    "    def account_number(self):\r\n",
    "        return self._account_number\r\n",
    "\r\n",
    "    @property\r\n",
    "    def account_name(self):\r\n",
    "        return self._account_name\r\n",
    "    \r\n",
    "    @property\r\n",
    "    def balance(self):\r\n",
    "        return self._balance\r\n",
    "\r\n",
    "    @balance.setter\r\n",
    "    def balance(self, balance):\r\n",
    "        if balance >= 0:\r\n",
    "            self._balance = balance\r\n",
    "        else:\r\n",
    "            print(\"Error\")\r\n",
    "\r\n",
    "    def display(self):\r\n",
    "        print(self.account_number, self.account_name, self.balance)\r\n",
    "    \r\n",
    "    def withdraw(self, amount):\r\n",
    "        if 0 < amount <= self.balance:\r\n",
    "            self.balance -= amount\r\n",
    "        else:\r\n",
    "            print(\"Error\")\r\n",
    "\r\n",
    "    def deposit(self, amount):\r\n",
    "        if amount > 0:\r\n",
    "            self.balance += amount\r\n",
    "        else:\r\n",
    "            print(\"Error\")\r\n",
    "\r\n",
    "my_account = BankAccount(1, \"Thuy\", 1_000_000_000_000_000_000)\r\n",
    "my_account.deposit(1_000_000)\r\n",
    "my_account.display()\r\n",
    "\r\n",
    "my_account.withdraw(1_000_000_000_000_000_000)\r\n",
    "my_account.display()\r\n"
   ],
   "outputs": [
    {
     "output_type": "stream",
     "name": "stdout",
     "text": [
      "1 Thuy 1000000000001000000\n",
      "1 Thuy 1000000\n"
     ]
    }
   ],
   "metadata": {}
  },
  {
   "cell_type": "code",
   "execution_count": 10,
   "source": [],
   "outputs": [
    {
     "output_type": "stream",
     "name": "stdout",
     "text": [
      "1 Ba 2000000000000000000 ₫\n",
      "1 Ba 1999999999900000000 ₫\n"
     ]
    }
   ],
   "metadata": {}
  }
 ],
 "metadata": {
  "interpreter": {
   "hash": "04635d289a519a1410467dd0afb0db42f9184808881ca68b2eb5a687a20a5a94"
  },
  "kernelspec": {
   "name": "python3",
   "display_name": "Python 3.7.6 64-bit (system)"
  },
  "language_info": {
   "codemirror_mode": {
    "name": "ipython",
    "version": 3
   },
   "file_extension": ".py",
   "mimetype": "text/x-python",
   "name": "python",
   "nbconvert_exporter": "python",
   "pygments_lexer": "ipython3",
   "version": "3.7.6"
  }
 },
 "nbformat": 4,
 "nbformat_minor": 5
}