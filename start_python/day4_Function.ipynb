{
 "cells": [
  {
   "cell_type": "markdown",
   "source": [
    "## Định nghĩa và gọi Hàm tự viết"
   ],
   "metadata": {}
  },
  {
   "cell_type": "code",
   "execution_count": 9,
   "source": [
    "def do_something():\n",
    "    pass\n",
    "do_something()"
   ],
   "outputs": [],
   "metadata": {}
  },
  {
   "cell_type": "code",
   "execution_count": 4,
   "source": [
    "def greet():\n",
    "    print(\"Chào buổi chiều!!\")\n",
    "\n",
    "greet()"
   ],
   "outputs": [
    {
     "name": "stdout",
     "output_type": "stream",
     "text": [
      "Chào buổi chiều!!\n"
     ]
    }
   ],
   "metadata": {}
  },
  {
   "cell_type": "code",
   "execution_count": 3,
   "source": [
    "say_hello()"
   ],
   "outputs": [
    {
     "ename": "NameError",
     "evalue": "name 'say_hello' is not defined",
     "output_type": "error",
     "traceback": [
      "\u001B[1;31m---------------------------------------------------------------------------\u001B[0m",
      "\u001B[1;31mNameError\u001B[0m                                 Traceback (most recent call last)",
      "\u001B[1;32mC:\\Users\\THUY~1.NGU\\AppData\\Local\\Temp/ipykernel_8256/1728380986.py\u001B[0m in \u001B[0;36m<module>\u001B[1;34m\u001B[0m\n\u001B[1;32m----> 1\u001B[1;33m \u001B[0msay_hello\u001B[0m\u001B[1;33m(\u001B[0m\u001B[1;33m)\u001B[0m\u001B[1;33m\u001B[0m\u001B[1;33m\u001B[0m\u001B[0m\n\u001B[0m\u001B[0;32m      2\u001B[0m \u001B[1;33m\u001B[0m\u001B[0m\n",
      "\u001B[1;31mNameError\u001B[0m: name 'say_hello' is not defined"
     ]
    }
   ],
   "metadata": {}
  },
  {
   "cell_type": "code",
   "execution_count": null,
   "source": [
    "# hãy định nghĩa hàm này rồi chạy lại dòng trên"
   ],
   "outputs": [],
   "metadata": {}
  },
  {
   "cell_type": "code",
   "execution_count": 10,
   "source": [
    "print(some_var)"
   ],
   "outputs": [
    {
     "ename": "NameError",
     "evalue": "name 'some_var' is not defined",
     "output_type": "error",
     "traceback": [
      "\u001B[1;31m---------------------------------------------------------------------------\u001B[0m",
      "\u001B[1;31mNameError\u001B[0m                                 Traceback (most recent call last)",
      "\u001B[1;32mC:\\Users\\THUY~1.NGU\\AppData\\Local\\Temp/ipykernel_8256/4013143968.py\u001B[0m in \u001B[0;36m<module>\u001B[1;34m\u001B[0m\n\u001B[1;32m----> 1\u001B[1;33m \u001B[0mprint\u001B[0m\u001B[1;33m(\u001B[0m\u001B[0msome_var\u001B[0m\u001B[1;33m)\u001B[0m\u001B[1;33m\u001B[0m\u001B[1;33m\u001B[0m\u001B[0m\n\u001B[0m\u001B[0;32m      2\u001B[0m \u001B[1;33m\u001B[0m\u001B[0m\n",
      "\u001B[1;31mNameError\u001B[0m: name 'some_var' is not defined"
     ]
    }
   ],
   "metadata": {}
  },
  {
   "cell_type": "code",
   "execution_count": null,
   "source": [
    "def causes_error():\n",
    "    print(some_var)"
   ],
   "outputs": [],
   "metadata": {}
  },
  {
   "cell_type": "code",
   "execution_count": null,
   "source": [
    "causes_error()          # scope of variable"
   ],
   "outputs": [],
   "metadata": {}
  },
  {
   "cell_type": "code",
   "execution_count": 11,
   "source": [
    "def calculate_sum():\n",
    "    print(\"Sum of 2, 3, 4 is\", 2 + 3 + 4)\n",
    "\n",
    "calculate_sum()"
   ],
   "outputs": [
    {
     "name": "stdout",
     "output_type": "stream",
     "text": [
      "Sum of 2, 3, 4 is 9\n"
     ]
    }
   ],
   "metadata": {}
  },
  {
   "cell_type": "code",
   "execution_count": 12,
   "source": [
    "a = 2\n",
    "b, c = 3, 4\n",
    "\n",
    "def calculate_sum():\n",
    "    result = a + b +c\n",
    "\n",
    "    print(\"Sum of a, b, c is\", result)\n",
    "\n",
    "    if result < 10:\n",
    "        print(\"The sum is less than 10\")\n",
    "\n",
    "calculate_sum()"
   ],
   "outputs": [
    {
     "name": "stdout",
     "output_type": "stream",
     "text": [
      "Sum of a, b, c is 9\n",
      "The sum is less than 10\n"
     ]
    }
   ],
   "metadata": {}
  },
  {
   "cell_type": "code",
   "execution_count": null,
   "source": [
    "a = 1\n",
    "calculate_sum()"
   ],
   "outputs": [],
   "metadata": {}
  },
  {
   "cell_type": "markdown",
   "source": [
    "## Truyền đối số và giá trị trả về"
   ],
   "metadata": {}
  },
  {
   "cell_type": "code",
   "execution_count": 13,
   "source": [
    "def calculate_sum(a, b, c):\n",
    "    result = a + b + c\n",
    "    print(\"Sum of a, b, c is\", result)\n",
    "\n",
    "    if result < 10:\n",
    "        print(\"The sum is less than 10!\")\n",
    "    else:\n",
    "        print(\"The sum is greater than 10!\")\n",
    "\n",
    "calculate_sum(2)"
   ],
   "outputs": [
    {
     "ename": "TypeError",
     "evalue": "calculate_sum() missing 2 required positional arguments: 'b' and 'c'",
     "output_type": "error",
     "traceback": [
      "\u001B[1;31m---------------------------------------------------------------------------\u001B[0m",
      "\u001B[1;31mTypeError\u001B[0m                                 Traceback (most recent call last)",
      "\u001B[1;32mC:\\Users\\THUY~1.NGU\\AppData\\Local\\Temp/ipykernel_8256/2138893049.py\u001B[0m in \u001B[0;36m<module>\u001B[1;34m\u001B[0m\n\u001B[0;32m      8\u001B[0m         \u001B[0mprint\u001B[0m\u001B[1;33m(\u001B[0m\u001B[1;34m\"The sum is greater than 10!\"\u001B[0m\u001B[1;33m)\u001B[0m\u001B[1;33m\u001B[0m\u001B[1;33m\u001B[0m\u001B[0m\n\u001B[0;32m      9\u001B[0m \u001B[1;33m\u001B[0m\u001B[0m\n\u001B[1;32m---> 10\u001B[1;33m \u001B[0mcalculate_sum\u001B[0m\u001B[1;33m(\u001B[0m\u001B[1;36m2\u001B[0m\u001B[1;33m)\u001B[0m\u001B[1;33m\u001B[0m\u001B[1;33m\u001B[0m\u001B[0m\n\u001B[0m\u001B[0;32m     11\u001B[0m \u001B[1;33m\u001B[0m\u001B[0m\n",
      "\u001B[1;31mTypeError\u001B[0m: calculate_sum() missing 2 required positional arguments: 'b' and 'c'"
     ]
    }
   ],
   "metadata": {}
  },
  {
   "cell_type": "code",
   "execution_count": 14,
   "source": [
    "calculate_sum(2, 3, 4)"
   ],
   "outputs": [
    {
     "name": "stdout",
     "output_type": "stream",
     "text": [
      "Sum of a, b, c is 9\n",
      "The sum is less than 10!\n"
     ]
    }
   ],
   "metadata": {}
  },
  {
   "cell_type": "code",
   "execution_count": null,
   "source": [
    "x, y, z = 100, 200, 300\n",
    "calculate_sum(x, y, z)"
   ],
   "outputs": [],
   "metadata": {}
  },
  {
   "cell_type": "code",
   "execution_count": 15,
   "source": [
    "def luy_thua(num, exponent):\n",
    "    power = num ** exponent\n",
    "    return power\n",
    "\n",
    "luy_thua(5, 2)"
   ],
   "outputs": [
    {
     "data": {
      "text/plain": "25"
     },
     "execution_count": 15,
     "metadata": {},
     "output_type": "execute_result"
    }
   ],
   "metadata": {}
  },
  {
   "cell_type": "code",
   "execution_count": 16,
   "source": [
    "result = luy_thua(4, 2)\n",
    "result"
   ],
   "outputs": [
    {
     "data": {
      "text/plain": "16"
     },
     "execution_count": 16,
     "metadata": {},
     "output_type": "execute_result"
    }
   ],
   "metadata": {}
  },
  {
   "cell_type": "code",
   "execution_count": 17,
   "source": [
    "def square_and_cube(num):\n",
    "    square = num ** 2\n",
    "    cube = num ** 3\n",
    "    return square, cube\n",
    "\n",
    "square_and_cube(12)"
   ],
   "outputs": [
    {
     "data": {
      "text/plain": "(144, 1728)"
     },
     "execution_count": 17,
     "metadata": {},
     "output_type": "execute_result"
    }
   ],
   "metadata": {}
  },
  {
   "cell_type": "code",
   "execution_count": 18,
   "source": [
    "# gán kết quả về cho 2 biến riêng biệt\n",
    "n_square, n_triple = square_and_cube(12)\n",
    "print(n_square, n_triple)"
   ],
   "outputs": [
    {
     "name": "stdout",
     "output_type": "stream",
     "text": [
      "144 1728\n"
     ]
    }
   ],
   "metadata": {}
  },
  {
   "cell_type": "code",
   "execution_count": null,
   "source": [
    "def divisible_by_5(num):\n",
    "    if num % 5 == 0:\n",
    "        return \"This number is divisible by 5\"\n",
    "\n",
    "# what happen when it's not?"
   ],
   "outputs": [],
   "metadata": {}
  },
  {
   "cell_type": "markdown",
   "source": [
    "## Thay đổi đối số đầu vào"
   ],
   "metadata": {}
  },
  {
   "cell_type": "code",
   "execution_count": null,
   "source": [
    "int_var = 3\n",
    "float_var = 2.5\n",
    "string_var = \"Hello\"\n",
    "bool_var = True"
   ],
   "outputs": [],
   "metadata": {}
  },
  {
   "cell_type": "code",
   "execution_count": 39,
   "source": [
    "def reassign_arguments(int_var, float_var, string_var, bool_var):\n",
    "    int_var = 30\n",
    "    float_var = 30.3\n",
    "    string_var = \"Goodbye!!\"\n",
    "    bool_var = False\n",
    "    \n",
    "    print(\"Inside the function: \", int_var, float_var, string_var, bool_var)"
   ],
   "outputs": [],
   "metadata": {}
  },
  {
   "cell_type": "code",
   "execution_count": 40,
   "source": [
    "print(\"Outside the function: \", int_var, float_var, string_var, bool_var)"
   ],
   "outputs": [
    {
     "ename": "NameError",
     "evalue": "name 'int_var' is not defined",
     "output_type": "error",
     "traceback": [
      "\u001B[1;31m---------------------------------------------------------------------------\u001B[0m",
      "\u001B[1;31mNameError\u001B[0m                                 Traceback (most recent call last)",
      "\u001B[1;32mC:\\Users\\THUY~1.NGU\\AppData\\Local\\Temp/ipykernel_8256/2973547832.py\u001B[0m in \u001B[0;36m<module>\u001B[1;34m\u001B[0m\n\u001B[1;32m----> 1\u001B[1;33m \u001B[0mprint\u001B[0m\u001B[1;33m(\u001B[0m\u001B[1;34m\"Outside the function: \"\u001B[0m\u001B[1;33m,\u001B[0m \u001B[0mint_var\u001B[0m\u001B[1;33m,\u001B[0m \u001B[0mfloat_var\u001B[0m\u001B[1;33m,\u001B[0m \u001B[0mstring_var\u001B[0m\u001B[1;33m,\u001B[0m \u001B[0mbool_var\u001B[0m\u001B[1;33m)\u001B[0m\u001B[1;33m\u001B[0m\u001B[1;33m\u001B[0m\u001B[0m\n\u001B[0m\u001B[0;32m      2\u001B[0m \u001B[1;33m\u001B[0m\u001B[0m\n",
      "\u001B[1;31mNameError\u001B[0m: name 'int_var' is not defined"
     ]
    }
   ],
   "metadata": {}
  },
  {
   "cell_type": "code",
   "execution_count": 23,
   "source": [
    "reassign_arguments(int_var, float_var, string_var, bool_var)"
   ],
   "outputs": [
    {
     "ename": "NameError",
     "evalue": "name 'int_var' is not defined",
     "output_type": "error",
     "traceback": [
      "\u001B[1;31m---------------------------------------------------------------------------\u001B[0m",
      "\u001B[1;31mNameError\u001B[0m                                 Traceback (most recent call last)",
      "\u001B[1;32mC:\\Users\\THUY~1.NGU\\AppData\\Local\\Temp/ipykernel_8256/3186912015.py\u001B[0m in \u001B[0;36m<module>\u001B[1;34m\u001B[0m\n\u001B[1;32m----> 1\u001B[1;33m \u001B[0mreassign_arguments\u001B[0m\u001B[1;33m(\u001B[0m\u001B[0mint_var\u001B[0m\u001B[1;33m,\u001B[0m \u001B[0mfloat_var\u001B[0m\u001B[1;33m,\u001B[0m \u001B[0mstring_var\u001B[0m\u001B[1;33m,\u001B[0m \u001B[0mbool_var\u001B[0m\u001B[1;33m)\u001B[0m\u001B[1;33m\u001B[0m\u001B[1;33m\u001B[0m\u001B[0m\n\u001B[0m\u001B[0;32m      2\u001B[0m \u001B[1;33m\u001B[0m\u001B[0m\n",
      "\u001B[1;31mNameError\u001B[0m: name 'int_var' is not defined"
     ]
    }
   ],
   "metadata": {}
  },
  {
   "cell_type": "code",
   "execution_count": 24,
   "source": [
    "print(\"Outside the function: \", int_var, float_var, string_var, bool_var)"
   ],
   "outputs": [
    {
     "ename": "NameError",
     "evalue": "name 'int_var' is not defined",
     "output_type": "error",
     "traceback": [
      "\u001B[1;31m---------------------------------------------------------------------------\u001B[0m",
      "\u001B[1;31mNameError\u001B[0m                                 Traceback (most recent call last)",
      "\u001B[1;32mC:\\Users\\THUY~1.NGU\\AppData\\Local\\Temp/ipykernel_8256/2973547832.py\u001B[0m in \u001B[0;36m<module>\u001B[1;34m\u001B[0m\n\u001B[1;32m----> 1\u001B[1;33m \u001B[0mprint\u001B[0m\u001B[1;33m(\u001B[0m\u001B[1;34m\"Outside the function: \"\u001B[0m\u001B[1;33m,\u001B[0m \u001B[0mint_var\u001B[0m\u001B[1;33m,\u001B[0m \u001B[0mfloat_var\u001B[0m\u001B[1;33m,\u001B[0m \u001B[0mstring_var\u001B[0m\u001B[1;33m,\u001B[0m \u001B[0mbool_var\u001B[0m\u001B[1;33m)\u001B[0m\u001B[1;33m\u001B[0m\u001B[1;33m\u001B[0m\u001B[0m\n\u001B[0m\u001B[0;32m      2\u001B[0m \u001B[1;33m\u001B[0m\u001B[0m\n",
      "\u001B[1;31mNameError\u001B[0m: name 'int_var' is not defined"
     ]
    }
   ],
   "metadata": {}
  },
  {
   "cell_type": "code",
   "execution_count": null,
   "source": [
    "a_list = ['VietNam', 'China', 'US']\n",
    "a_tuple = ('Cầu Giấy', 'Bình Thạnh')\n",
    "a_dictionary = {'Cầu Giấy': 30, 'Bình Thạnh': 9000}"
   ],
   "outputs": [],
   "metadata": {}
  },
  {
   "cell_type": "code",
   "execution_count": 36,
   "source": [
    "def reassign_arguments(a_list, a_tuple, a_dictionary):\n",
    "    a_list = ['Russia']\n",
    "    a_tuple = ('Thủ Đức')\n",
    "    a_dictionary = {'Thủ Đức': 13000}\n",
    "\n",
    "    print(\"Inside the function: \", a_list, a_tuple, a_dictionary)"
   ],
   "outputs": [
    {
     "ename": "NameError",
     "evalue": "name 'a_list' is not defined",
     "output_type": "error",
     "traceback": [
      "\u001B[1;31m---------------------------------------------------------------------------\u001B[0m",
      "\u001B[1;31mNameError\u001B[0m                                 Traceback (most recent call last)",
      "\u001B[1;32mC:\\Users\\THUY~1.NGU\\AppData\\Local\\Temp/ipykernel_8256/3610541146.py\u001B[0m in \u001B[0;36m<module>\u001B[1;34m\u001B[0m\n\u001B[0;32m      5\u001B[0m \u001B[1;33m\u001B[0m\u001B[0m\n\u001B[0;32m      6\u001B[0m     \u001B[0mprint\u001B[0m\u001B[1;33m(\u001B[0m\u001B[1;34m\"Inside the function: \"\u001B[0m\u001B[1;33m,\u001B[0m \u001B[0ma_list\u001B[0m\u001B[1;33m,\u001B[0m \u001B[0ma_tuple\u001B[0m\u001B[1;33m,\u001B[0m \u001B[0ma_dictionary\u001B[0m\u001B[1;33m)\u001B[0m\u001B[1;33m\u001B[0m\u001B[1;33m\u001B[0m\u001B[0m\n\u001B[1;32m----> 7\u001B[1;33m \u001B[0mreassign_arguments\u001B[0m\u001B[1;33m(\u001B[0m\u001B[0ma_list\u001B[0m\u001B[1;33m,\u001B[0m \u001B[0ma_tuple\u001B[0m\u001B[1;33m,\u001B[0m \u001B[0ma_dictionary\u001B[0m\u001B[1;33m)\u001B[0m\u001B[1;33m\u001B[0m\u001B[1;33m\u001B[0m\u001B[0m\n\u001B[0m",
      "\u001B[1;31mNameError\u001B[0m: name 'a_list' is not defined"
     ]
    }
   ],
   "metadata": {}
  },
  {
   "cell_type": "code",
   "execution_count": 37,
   "source": [
    "print(\"Outside the function: \", a_list, a_tuple, a_dictionary)"
   ],
   "outputs": [
    {
     "ename": "NameError",
     "evalue": "name 'a_list' is not defined",
     "output_type": "error",
     "traceback": [
      "\u001B[1;31m---------------------------------------------------------------------------\u001B[0m",
      "\u001B[1;31mNameError\u001B[0m                                 Traceback (most recent call last)",
      "\u001B[1;32mC:\\Users\\THUY~1.NGU\\AppData\\Local\\Temp/ipykernel_8256/3033817672.py\u001B[0m in \u001B[0;36m<module>\u001B[1;34m\u001B[0m\n\u001B[1;32m----> 1\u001B[1;33m \u001B[0mprint\u001B[0m\u001B[1;33m(\u001B[0m\u001B[1;34m\"Outside the function: \"\u001B[0m\u001B[1;33m,\u001B[0m \u001B[0ma_list\u001B[0m\u001B[1;33m,\u001B[0m \u001B[0ma_tuple\u001B[0m\u001B[1;33m,\u001B[0m \u001B[0ma_dictionary\u001B[0m\u001B[1;33m)\u001B[0m\u001B[1;33m\u001B[0m\u001B[1;33m\u001B[0m\u001B[0m\n\u001B[0m\u001B[0;32m      2\u001B[0m \u001B[1;33m\u001B[0m\u001B[0m\n",
      "\u001B[1;31mNameError\u001B[0m: name 'a_list' is not defined"
     ]
    }
   ],
   "metadata": {}
  },
  {
   "cell_type": "code",
   "execution_count": null,
   "source": [
    "reassign_arguments(a_list, a_tuple, a_dictionary)"
   ],
   "outputs": [],
   "metadata": {}
  },
  {
   "cell_type": "code",
   "execution_count": null,
   "source": [
    "print(\"Outside the function: \", a_list, a_tuple, a_dictionary)"
   ],
   "outputs": [],
   "metadata": {}
  },
  {
   "cell_type": "code",
   "execution_count": 31,
   "source": [
    "logistic_centers = ['Bắc Ninh', 'Bình Dương', 'Tân Vạn', 'Bắc Giang']\n",
    "def modify_list(logistic_center):\n",
    "    logistic_centers.append('Cần Thơ')\n",
    "modify_list(logistic_centers)\n",
    "logistic_centers"
   ],
   "outputs": [
    {
     "data": {
      "text/plain": "['Bắc Ninh', 'Bình Dương', 'Tân Vạn', 'Bắc Giang', 'Cần Thơ']"
     },
     "execution_count": 31,
     "metadata": {},
     "output_type": "execute_result"
    }
   ],
   "metadata": {}
  },
  {
   "cell_type": "code",
   "execution_count": 30,
   "source": [
    "modify_list(logistic_centers)\n",
    "logistic_centers"
   ],
   "outputs": [
    {
     "ename": "NameError",
     "evalue": "name 'modify_list' is not defined",
     "output_type": "error",
     "traceback": [
      "\u001B[1;31m---------------------------------------------------------------------------\u001B[0m",
      "\u001B[1;31mNameError\u001B[0m                                 Traceback (most recent call last)",
      "\u001B[1;32mC:\\Users\\THUY~1.NGU\\AppData\\Local\\Temp/ipykernel_8256/1335452968.py\u001B[0m in \u001B[0;36m<module>\u001B[1;34m\u001B[0m\n\u001B[1;32m----> 1\u001B[1;33m \u001B[0mmodify_list\u001B[0m\u001B[1;33m(\u001B[0m\u001B[0mlogistic_centers\u001B[0m\u001B[1;33m)\u001B[0m\u001B[1;33m\u001B[0m\u001B[1;33m\u001B[0m\u001B[0m\n\u001B[0m\u001B[0;32m      2\u001B[0m \u001B[0mlogistic_centers\u001B[0m\u001B[1;33m\u001B[0m\u001B[1;33m\u001B[0m\u001B[0m\n\u001B[0;32m      3\u001B[0m \u001B[1;33m\u001B[0m\u001B[0m\n",
      "\u001B[1;31mNameError\u001B[0m: name 'modify_list' is not defined"
     ]
    }
   ],
   "metadata": {}
  },
  {
   "cell_type": "code",
   "execution_count": 33,
   "source": [
    "def modify_list(a_list):\n",
    "    a_list[1] = \"Đà Nẵng\"\n",
    "    a_list.pop()"
   ],
   "outputs": [
    {
     "data": {
      "text/plain": "['Bắc Ninh', 'Đà Nẵng', 'Tân Vạn', 'Bắc Giang', 'Cần Thơ']"
     },
     "execution_count": 33,
     "metadata": {},
     "output_type": "execute_result"
    }
   ],
   "metadata": {}
  },
  {
   "cell_type": "code",
   "execution_count": 41,
   "source": [
    "modify_list(logistic_centers)\n",
    "logistic_centers"
   ],
   "outputs": [
    {
     "data": {
      "text/plain": "['Bắc Ninh', 'Đà Nẵng', 'Tân Vạn', 'Bắc Giang']"
     },
     "execution_count": 41,
     "metadata": {},
     "output_type": "execute_result"
    }
   ],
   "metadata": {}
  },
  {
   "cell_type": "code",
   "execution_count": 44,
   "source": [
    "a_dictionary = {'Cầu Giấy': 30, 'Bình Thạnh': 9000}\n",
    "def modify_dict(a_dict):\n",
    "    del a_dict['Cầu Giấy']\n",
    "    a_dict['Bình Thạnh'] = 9500\n",
    "    a_dict = {}\n",
    "\n",
    "modify_dict(a_dictionary)\n",
    "a_dictionary"
   ],
   "outputs": [
    {
     "ename": "KeyError",
     "evalue": "'HBT'",
     "output_type": "error",
     "traceback": [
      "\u001B[1;31m---------------------------------------------------------------------------\u001B[0m",
      "\u001B[1;31mKeyError\u001B[0m                                  Traceback (most recent call last)",
      "\u001B[1;32mC:\\Users\\THUY~1.NGU\\AppData\\Local\\Temp/ipykernel_8256/1564236001.py\u001B[0m in \u001B[0;36m<module>\u001B[1;34m\u001B[0m\n\u001B[0;32m      6\u001B[0m     \u001B[0ma_dict\u001B[0m \u001B[1;33m=\u001B[0m \u001B[1;33m{\u001B[0m\u001B[1;33m}\u001B[0m\u001B[1;33m\u001B[0m\u001B[1;33m\u001B[0m\u001B[0m\n\u001B[0;32m      7\u001B[0m \u001B[1;33m\u001B[0m\u001B[0m\n\u001B[1;32m----> 8\u001B[1;33m \u001B[0mmodify_dict\u001B[0m\u001B[1;33m(\u001B[0m\u001B[0ma_dictionary\u001B[0m\u001B[1;33m)\u001B[0m\u001B[1;33m\u001B[0m\u001B[1;33m\u001B[0m\u001B[0m\n\u001B[0m\u001B[0;32m      9\u001B[0m \u001B[0ma_dictionary\u001B[0m\u001B[1;33m\u001B[0m\u001B[1;33m\u001B[0m\u001B[0m\n\u001B[0;32m     10\u001B[0m \u001B[1;33m\u001B[0m\u001B[0m\n",
      "\u001B[1;32mC:\\Users\\THUY~1.NGU\\AppData\\Local\\Temp/ipykernel_8256/1564236001.py\u001B[0m in \u001B[0;36mmodify_dict\u001B[1;34m(a_dict)\u001B[0m\n\u001B[0;32m      1\u001B[0m \u001B[0ma_dictionary\u001B[0m \u001B[1;33m=\u001B[0m \u001B[1;33m{\u001B[0m\u001B[1;34m'Cầu Giấy'\u001B[0m\u001B[1;33m:\u001B[0m \u001B[1;36m30\u001B[0m\u001B[1;33m,\u001B[0m \u001B[1;34m'Bình Thạnh'\u001B[0m\u001B[1;33m:\u001B[0m \u001B[1;36m9000\u001B[0m\u001B[1;33m}\u001B[0m\u001B[1;33m\u001B[0m\u001B[1;33m\u001B[0m\u001B[0m\n\u001B[0;32m      2\u001B[0m \u001B[1;32mdef\u001B[0m \u001B[0mmodify_dict\u001B[0m\u001B[1;33m(\u001B[0m\u001B[0ma_dict\u001B[0m\u001B[1;33m)\u001B[0m\u001B[1;33m:\u001B[0m\u001B[1;33m\u001B[0m\u001B[1;33m\u001B[0m\u001B[0m\n\u001B[1;32m----> 3\u001B[1;33m     \u001B[1;32mdel\u001B[0m \u001B[0ma_dict\u001B[0m\u001B[1;33m[\u001B[0m\u001B[1;34m'HBT'\u001B[0m\u001B[1;33m]\u001B[0m\u001B[1;33m\u001B[0m\u001B[1;33m\u001B[0m\u001B[0m\n\u001B[0m\u001B[0;32m      4\u001B[0m     \u001B[1;31m# Cầu Giấy\u001B[0m\u001B[1;33m\u001B[0m\u001B[1;33m\u001B[0m\u001B[1;33m\u001B[0m\u001B[0m\n\u001B[0;32m      5\u001B[0m     \u001B[0ma_dict\u001B[0m\u001B[1;33m[\u001B[0m\u001B[1;34m'Bình Thạnh'\u001B[0m\u001B[1;33m]\u001B[0m \u001B[1;33m=\u001B[0m \u001B[1;36m9500\u001B[0m\u001B[1;33m\u001B[0m\u001B[1;33m\u001B[0m\u001B[0m\n",
      "\u001B[1;31mKeyError\u001B[0m: 'HBT'"
     ]
    }
   ],
   "metadata": {}
  },
  {
   "cell_type": "markdown",
   "source": [
    "## Đối số có từ khóa - Keyword Arguments"
   ],
   "metadata": {}
  },
  {
   "cell_type": "code",
   "execution_count": null,
   "source": [
    "def vinfast_car(model, year, hp, engine, zero_to_sixty, top_speed, price):\n",
    "    other_details = hp, engine, zero_to_sixty, top_speed, price\n",
    "\n",
    "    print(\"Name of the car: Vinfast \", model)\n",
    "    print(\"Year: \", year)\n",
    "    print(\"0 to 60: \", zero_to_sixty)\n",
    "    print(\"Price: \", price)\n",
    "    print(\"Remaining details (hp, engine, zero_to_sixty, top_speed, price): \", other_details)"
   ],
   "outputs": [],
   "metadata": {}
  },
  {
   "cell_type": "code",
   "execution_count": null,
   "source": [
    "vinfast_car(\"Lux SA2.0\", \n",
    "            \"2020\", \n",
    "            228, \n",
    "            2.0,\n",
    "            4.9,\n",
    "            250,\n",
    "            1074450000)"
   ],
   "outputs": [],
   "metadata": {}
  },
  {
   "cell_type": "code",
   "execution_count": null,
   "source": [
    "vinfast_car(\"Lux SA2.0\", \n",
    "            \"2020\", \n",
    "            228, \n",
    "            2.0,\n",
    "            1074450000)"
   ],
   "outputs": [],
   "metadata": {}
  },
  {
   "cell_type": "code",
   "execution_count": null,
   "source": [
    "vinfast_car(\"Lux SA2.0\", \n",
    "            \"2020\", \n",
    "            hp=228, \n",
    "            engine=2.0,\n",
    "            zero_to_sixty=4.9,\n",
    "            top_speed=250,\n",
    "            price=1074450000)"
   ],
   "outputs": [],
   "metadata": {}
  },
  {
   "cell_type": "code",
   "execution_count": null,
   "source": [
    "vinfast_car(\"Lux SA2.0\", \n",
    "            \"2020\", \n",
    "            hp=228, \n",
    "            2.0,\n",
    "            zerotosixty=4.9,\n",
    "            top_speed=250,\n",
    "            price=1074450000)"
   ],
   "outputs": [],
   "metadata": {}
  },
  {
   "cell_type": "code",
   "execution_count": null,
   "source": [
    "def vinfast_car(model, year, hp, engine, zero_to_sixty, top_speed, price=976000000):\n",
    "    other_details = hp, engine, zero_to_sixty, top_speed, price\n",
    "\n",
    "    print(\"Name of the car: Vinfast \", model)\n",
    "    print(\"Year: \", year)\n",
    "    print(\"0 to 60: \", zero_to_sixty)\n",
    "    print(\"Price: \", price)\n",
    "    print(\"Remaining details (hp, engine, zero_to_sixty, top_speed, price): \", other_details)"
   ],
   "outputs": [],
   "metadata": {}
  },
  {
   "cell_type": "code",
   "execution_count": null,
   "source": [
    "vinfast_car(\"Lux SA2.0\", \n",
    "            \"2020\", \n",
    "            hp=228, \n",
    "            engine=2.0,\n",
    "            zero_to_sixty=4.9,\n",
    "            top_speed=250)"
   ],
   "outputs": [],
   "metadata": {}
  },
  {
   "cell_type": "code",
   "execution_count": 1,
   "source": [
    "def vinfast_car_all_keywords(model=\"Lux 2.0\", year=\"2020\", hp=228, engine=2.0, zero_to_sixty=4.8, top_speed=250, price=976000000):\n",
    "    other_details = hp, engine, zero_to_sixty, top_speed, price\n",
    "\n",
    "    print(\"Name of the car: Vinfast \", model)\n",
    "    print(\"Year: \", year)\n",
    "    print(\"0 to 60: \", zero_to_sixty)\n",
    "    print(\"Price: \", price)\n",
    "    print(\"Remaining details (hp, engine, zero_to_sixty, top_speed, price): \", other_details)\n",
    "\n",
    "vinfast_car_all_keywords()"
   ],
   "outputs": [
    {
     "name": "stdout",
     "output_type": "stream",
     "text": [
      "Name of the car: Vinfast  Lux 2.0\n",
      "Year:  2020\n",
      "0 to 60:  4.8\n",
      "Price:  976000000\n",
      "Remaining details (hp, engine, zero_to_sixty, top_speed, price):  (228, 2.0, 4.8, 250, 976000000)\n"
     ]
    }
   ],
   "metadata": {}
  },
  {
   "cell_type": "code",
   "execution_count": 2,
   "source": [
    "vinfast_car(year=\"2021\", price=1345000000)"
   ],
   "outputs": [
    {
     "ename": "NameError",
     "evalue": "name 'vinfast_car' is not defined",
     "output_type": "error",
     "traceback": [
      "\u001B[1;31m---------------------------------------------------------------------------\u001B[0m",
      "\u001B[1;31mNameError\u001B[0m                                 Traceback (most recent call last)",
      "\u001B[1;32mC:\\Users\\THUY~1.NGU\\AppData\\Local\\Temp/ipykernel_16904/1319568424.py\u001B[0m in \u001B[0;36m<module>\u001B[1;34m\u001B[0m\n\u001B[1;32m----> 1\u001B[1;33m \u001B[0mvinfast_car\u001B[0m\u001B[1;33m(\u001B[0m\u001B[0myear\u001B[0m\u001B[1;33m=\u001B[0m\u001B[1;34m\"2021\"\u001B[0m\u001B[1;33m,\u001B[0m \u001B[0mprice\u001B[0m\u001B[1;33m=\u001B[0m\u001B[1;36m1345000000\u001B[0m\u001B[1;33m)\u001B[0m\u001B[1;33m\u001B[0m\u001B[1;33m\u001B[0m\u001B[0m\n\u001B[0m\u001B[0;32m      2\u001B[0m \u001B[1;33m\u001B[0m\u001B[0m\n",
      "\u001B[1;31mNameError\u001B[0m: name 'vinfast_car' is not defined"
     ]
    }
   ],
   "metadata": {}
  },
  {
   "cell_type": "markdown",
   "source": [
    "## List/Dictionary unpacking"
   ],
   "metadata": {}
  },
  {
   "cell_type": "code",
   "execution_count": null,
   "source": [
    "vals = [28, 2.0, 4.9, 250, 1074450000]\n",
    "hp, engine, zero_to_sixty, top_speed, price = vals"
   ],
   "outputs": [],
   "metadata": {}
  },
  {
   "cell_type": "code",
   "execution_count": null,
   "source": [
    "hp, engine, zero_to_sixty, top_speed = vals"
   ],
   "outputs": [],
   "metadata": {}
  },
  {
   "cell_type": "code",
   "execution_count": null,
   "source": [
    "*others, price = vals\n",
    "others"
   ],
   "outputs": [],
   "metadata": {}
  },
  {
   "cell_type": "code",
   "execution_count": null,
   "source": [
    "hp, engine, *others = vals      # chỉ được phép có 1 dấu *\n",
    "others"
   ],
   "outputs": [],
   "metadata": {}
  },
  {
   "cell_type": "code",
   "execution_count": null,
   "source": [
    "# tương tự cho dictionary nhưng với **\n",
    "numbers = {\"one\": 1, \"two\": 2, \"three\": 3}\n",
    "letters = {\"a\": \"A\", \"b\": \"B\", \"c\": \"C\"}\n",
    "combination = {**numbers, **letters}\n",
    "combination"
   ],
   "outputs": [],
   "metadata": {}
  },
  {
   "cell_type": "code",
   "execution_count": null,
   "source": [
    "def vinfast_car_all_keywords(**kwargs):\n",
    "    for arg in kwargs.items():\n",
    "        print(f\"{arg[0]}: {arg[1]}\")\n",
    "\n",
    "vinfast_car_all_keywords(model=\"Lux 2.0\", year=\"2020\", hp=228, engine=2.0, zero_to_sixty=4.8, top_speed=250, price=976000000)"
   ],
   "outputs": [],
   "metadata": {}
  },
  {
   "cell_type": "code",
   "execution_count": 10,
   "source": [
    "# correct_function_definition.py\n",
    "def my_function(a, b, *args, **kwargs):\n",
    "    print(f\"{a} & {b} là các standard arguments\")\n",
    "    print(\"*args là các positional arguments\")\n",
    "    for arg in args:\n",
    "        print(f\"\\t{arg}\")\n",
    "    print(\"**kwargs là các named hoặc keyword arguments\")\n",
    "    for arg in kwargs.items():\n",
    "        print(f\"\\t{arg[0]}: {arg[1]}\")\n",
    "\n",
    "my_function(\"Lớp Python học vào\", \"thứ 3-5-7 có\", 40, \"bạn học viên\", coordinator=\"Vinh\", groups=8)"
   ],
   "outputs": [
    {
     "output_type": "stream",
     "name": "stdout",
     "text": [
      "Lớp Python học vào & thứ 3-5-7 có là các standard arguments\n",
      "*args là các positional arguments\n",
      "\t40\n",
      "\tbạn học viên\n",
      "**kwargs là các named hoặc keyword arguments\n",
      "\tcoordinator: Vinh\n",
      "\tgroups: 8\n"
     ]
    }
   ],
   "metadata": {}
  },
  {
   "cell_type": "markdown",
   "source": [
    "## Hàm như một đối tượng hạng nhất"
   ],
   "metadata": {}
  },
  {
   "cell_type": "code",
   "execution_count": null,
   "source": [
    "def my_car(car):\n",
    "    print(\"My car is a\", car)\n",
    "\n",
    "my_car(\"Vinfast Lux 2.0\")"
   ],
   "outputs": [],
   "metadata": {}
  },
  {
   "cell_type": "code",
   "execution_count": null,
   "source": [
    "my_car"
   ],
   "outputs": [],
   "metadata": {}
  },
  {
   "cell_type": "code",
   "execution_count": null,
   "source": [
    "car_fn = my_car"
   ],
   "outputs": [],
   "metadata": {}
  },
  {
   "cell_type": "code",
   "execution_count": null,
   "source": [
    "car_fn(\"Toyota\")"
   ],
   "outputs": [],
   "metadata": {}
  },
  {
   "cell_type": "code",
   "execution_count": null,
   "source": [
    "maximum = max"
   ],
   "outputs": [],
   "metadata": {}
  },
  {
   "cell_type": "code",
   "execution_count": null,
   "source": [
    "num_list = [56, 3, 5, 1467, 23]\n",
    "maximum(num_list)"
   ],
   "outputs": [],
   "metadata": {}
  },
  {
   "cell_type": "code",
   "execution_count": null,
   "source": [
    "maximum == max"
   ],
   "outputs": [],
   "metadata": {}
  },
  {
   "cell_type": "code",
   "execution_count": null,
   "source": [
    "d = {\"cat\": 1, my_car: 2, 42: 3}\n",
    "d[my_car]"
   ],
   "outputs": [],
   "metadata": {}
  },
  {
   "cell_type": "code",
   "execution_count": null,
   "source": [
    "def calculate_importTax(price, type_of_item):\n",
    "    if type_of_item == \"Product\":\n",
    "        return price * 1.1\n",
    "    elif type_of_item == \"Service\":\n",
    "        return price * 1.05\n",
    "\n",
    "    return price * 1.5"
   ],
   "outputs": [],
   "metadata": {}
  },
  {
   "cell_type": "code",
   "execution_count": null,
   "source": [
    "def calculate_VAT(price, type_of_item):\n",
    "    return price * 1.1"
   ],
   "outputs": [],
   "metadata": {}
  },
  {
   "cell_type": "code",
   "execution_count": null,
   "source": [
    "type_of_tax = calculate_importTax"
   ],
   "outputs": [],
   "metadata": {}
  },
  {
   "cell_type": "code",
   "execution_count": null,
   "source": [
    "type_of_tax(1000, \"Product\")"
   ],
   "outputs": [],
   "metadata": {}
  },
  {
   "cell_type": "code",
   "execution_count": null,
   "source": [
    "type_of_tax(1000, \"Service\")"
   ],
   "outputs": [],
   "metadata": {}
  },
  {
   "cell_type": "code",
   "execution_count": null,
   "source": [
    "type_of_tax = calculate_VAT"
   ],
   "outputs": [],
   "metadata": {}
  },
  {
   "cell_type": "code",
   "execution_count": null,
   "source": [
    "type_of_tax(1000, \"Product\")"
   ],
   "outputs": [],
   "metadata": {}
  },
  {
   "cell_type": "code",
   "execution_count": null,
   "source": [
    "type_of_tax(1000, \"Service\")"
   ],
   "outputs": [],
   "metadata": {}
  },
  {
   "cell_type": "code",
   "execution_count": null,
   "source": [
    "def find_tax_calculator(type_of_tax):\n",
    "    if type_of_tax == \"importTax\":\n",
    "        return calculate_importTax\n",
    "    elif type_of_tax == \"VAT\":\n",
    "        return calculate_VAT"
   ],
   "outputs": [],
   "metadata": {}
  },
  {
   "cell_type": "code",
   "execution_count": null,
   "source": [
    "importTax_fn = find_tax_calculator(\"importTax\")\n",
    "importTax_fn"
   ],
   "outputs": [],
   "metadata": {}
  },
  {
   "cell_type": "code",
   "execution_count": null,
   "source": [
    "vat_fn = find_tax_calculator(\"VAT\")\n",
    "vat_fn"
   ],
   "outputs": [],
   "metadata": {}
  },
  {
   "cell_type": "code",
   "execution_count": null,
   "source": [
    "importTax_fn(1000, \"Product\")"
   ],
   "outputs": [],
   "metadata": {}
  },
  {
   "cell_type": "code",
   "execution_count": null,
   "source": [
    "vat_fn(1000, \"Product\")"
   ],
   "outputs": [],
   "metadata": {}
  },
  {
   "cell_type": "code",
   "execution_count": null,
   "source": [
    "def get_price_plus_taxes(price, type_of_item, tax_fn):\n",
    "    return tax_fn(price, type_of_item)"
   ],
   "outputs": [],
   "metadata": {}
  },
  {
   "cell_type": "code",
   "execution_count": null,
   "source": [
    "get_price_plus_taxes(2000, \"Product\", tax_fn=calculate_importTax)"
   ],
   "outputs": [],
   "metadata": {}
  },
  {
   "cell_type": "code",
   "execution_count": null,
   "source": [
    "get_price_plus_taxes(2000, \"Product\", tax_fn=calculate_VAT)"
   ],
   "outputs": [],
   "metadata": {}
  },
  {
   "cell_type": "markdown",
   "source": [
    "## Functional programming"
   ],
   "metadata": {}
  },
  {
   "cell_type": "code",
   "execution_count": null,
   "source": [
    "sorted(logistic_centers)"
   ],
   "outputs": [],
   "metadata": {}
  },
  {
   "cell_type": "code",
   "execution_count": null,
   "source": [
    "sorted(logistic_centers, key=len)       # <--- len is a callback"
   ],
   "outputs": [],
   "metadata": {}
  },
  {
   "cell_type": "code",
   "execution_count": null,
   "source": [
    "def reverse_len(s):\n",
    "    return -len(s)\n",
    "\n",
    "sorted(logistic_centers, key=reverse_len)"
   ],
   "outputs": [],
   "metadata": {}
  },
  {
   "cell_type": "code",
   "execution_count": null,
   "source": [
    "names_with_case = ['harry', 'Suzy', 'al', 'Mark']\n",
    "sorted(names_with_case)"
   ],
   "outputs": [],
   "metadata": {}
  },
  {
   "cell_type": "code",
   "execution_count": null,
   "source": [
    "sorted(names_with_case, key=str.lower)"
   ],
   "outputs": [],
   "metadata": {}
  },
  {
   "cell_type": "code",
   "execution_count": null,
   "source": [
    "# 1st limitation\n",
    "def add(x, y):\n",
    "    return x + y\n",
    "values_to_add = [1, 2, 3]\n",
    "sorted(values_to_add, key=add)"
   ],
   "outputs": [],
   "metadata": {}
  },
  {
   "cell_type": "code",
   "execution_count": null,
   "source": [
    "# 2nd limitation\n",
    "values_to_cast = ['1', '2', '3', 'four']\n",
    "sorted(values_to_cast, key=int)"
   ],
   "outputs": [],
   "metadata": {}
  },
  {
   "cell_type": "code",
   "execution_count": 4,
   "source": [
    "names_with_case = ['harry', 'Suzy', 'al', 'Mark']\n",
    "sorted(names_with_case, key=lambda x: x[::-1])"
   ],
   "outputs": [
    {
     "data": {
      "text/plain": "['Mark', 'al', 'harry', 'Suzy']"
     },
     "execution_count": 4,
     "metadata": {},
     "output_type": "execute_result"
    }
   ],
   "metadata": {}
  },
  {
   "cell_type": "code",
   "execution_count": null,
   "source": [
    "from collections import namedtuple\r\n",
    "\r\n",
    "Stock = namedtuple(\"Stock\", [\"symbol\", \"current\", \"high\", \"low\"])\r\n",
    "stock1 = Stock(\"CTG\", 32, high=42, low=19.1)\r\n",
    "stock2 = Stock(\"MBB\", 27.46, high=32.2, low=11.4)\r\n",
    "stock3 = Stock(\"ACB\", 32.16, high=38.2, low=16.5)\r\n",
    "VNIndex = [stock1, stock2, stock3]\r\n",
    "sorted(VNIndex, key=lambda x: getattr(x, 'high'), reverse=True)"
   ],
   "outputs": [],
   "metadata": {}
  },
  {
   "cell_type": "code",
   "execution_count": null,
   "source": [
    "prices = [1938098, 28485204, 29485772, 55838438]\r\n",
    "types = ['Product']*4\r\n",
    "final_prices = map(calculate_VAT, prices, types)\r\n",
    "list(final_prices)"
   ],
   "outputs": [],
   "metadata": {}
  }
 ],
 "metadata": {
  "orig_nbformat": 4,
  "language_info": {
   "name": "python",
   "version": "3.9.5",
   "mimetype": "text/x-python",
   "codemirror_mode": {
    "name": "ipython",
    "version": 3
   },
   "pygments_lexer": "ipython3",
   "nbconvert_exporter": "python",
   "file_extension": ".py"
  },
  "kernelspec": {
   "name": "python3",
   "language": "python",
   "display_name": "Python 3 (ipykernel)"
  },
  "interpreter": {
   "hash": "24cd0c75bfe4a706d6789947de4493a267f99aa12d72755b5ca874abcfbcc979"
  }
 },
 "nbformat": 4,
 "nbformat_minor": 2
}