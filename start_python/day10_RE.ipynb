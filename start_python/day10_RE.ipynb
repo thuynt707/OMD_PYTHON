{
 "cells": [
  {
   "cell_type": "code",
   "execution_count": null,
   "source": [
    "s = 'foo123bar'\r\n",
    "'123' in s"
   ],
   "outputs": [],
   "metadata": {}
  },
  {
   "cell_type": "code",
   "execution_count": null,
   "source": [
    "# dùng find() hoặc index() để tìm vị trí chuỗi con\r\n",
    "s.find('123')       # s.index('123')"
   ],
   "outputs": [],
   "metadata": {}
  },
  {
   "cell_type": "markdown",
   "source": [
    "## Regular Expression - Biểu thức chính quy\n",
    "\n",
    "Dùng nhiều trong thực tế. Ngắn gọn nhưng khá khó đọc, và khó hiểu\n",
    "Vấn đề chung: Cho một chuỗi (file contents, log, website source,...) xác định xem chuỗi\n",
    "có khớp một mẫu cho sẵn hoặc thu thập những chuỗi con chứa những thông tin cần thiết. Vd:\n",
    "* chuỗi có phải là đường dẫn URL hợp lệ\n",
    "* ngày giờ của những thông báo warning trong log file?\n",
    "* username và document nào được người dùng yêu cầu qua URL"
   ],
   "metadata": {}
  },
  {
   "cell_type": "code",
   "execution_count": 3,
   "source": [
    "import re\r\n",
    "\r\n",
    "pattern = \"123\"\r\n",
    "re.search(pattern, s)"
   ],
   "outputs": [
    {
     "output_type": "error",
     "ename": "NameError",
     "evalue": "name 's' is not defined",
     "traceback": [
      "\u001b[1;31m---------------------------------------------------------------------------\u001b[0m",
      "\u001b[1;31mNameError\u001b[0m                                 Traceback (most recent call last)",
      "\u001b[1;32mC:\\Users\\THUY~1.NGU\\AppData\\Local\\Temp/ipykernel_1736/1997697751.py\u001b[0m in \u001b[0;36m<module>\u001b[1;34m\u001b[0m\n\u001b[0;32m      2\u001b[0m \u001b[1;33m\u001b[0m\u001b[0m\n\u001b[0;32m      3\u001b[0m \u001b[0mpattern\u001b[0m \u001b[1;33m=\u001b[0m \u001b[1;34m\"123\"\u001b[0m\u001b[1;33m\u001b[0m\u001b[1;33m\u001b[0m\u001b[0m\n\u001b[1;32m----> 4\u001b[1;33m \u001b[0mre\u001b[0m\u001b[1;33m.\u001b[0m\u001b[0msearch\u001b[0m\u001b[1;33m(\u001b[0m\u001b[0mpattern\u001b[0m\u001b[1;33m,\u001b[0m \u001b[0ms\u001b[0m\u001b[1;33m)\u001b[0m\u001b[1;33m\u001b[0m\u001b[1;33m\u001b[0m\u001b[0m\n\u001b[0m",
      "\u001b[1;31mNameError\u001b[0m: name 's' is not defined"
     ]
    }
   ],
   "metadata": {}
  },
  {
   "cell_type": "code",
   "execution_count": 4,
   "source": [
    "if re.search('123', s):     # Match Object is truthy\r\n",
    "    print('Found a match')\r\n",
    "else:\r\n",
    "    print('No match')"
   ],
   "outputs": [
    {
     "output_type": "error",
     "ename": "NameError",
     "evalue": "name 's' is not defined",
     "traceback": [
      "\u001b[1;31m---------------------------------------------------------------------------\u001b[0m",
      "\u001b[1;31mNameError\u001b[0m                                 Traceback (most recent call last)",
      "\u001b[1;32mC:\\Users\\THUY~1.NGU\\AppData\\Local\\Temp/ipykernel_1736/4104769321.py\u001b[0m in \u001b[0;36m<module>\u001b[1;34m\u001b[0m\n\u001b[1;32m----> 1\u001b[1;33m \u001b[1;32mif\u001b[0m \u001b[0mre\u001b[0m\u001b[1;33m.\u001b[0m\u001b[0msearch\u001b[0m\u001b[1;33m(\u001b[0m\u001b[1;34m'123'\u001b[0m\u001b[1;33m,\u001b[0m \u001b[0ms\u001b[0m\u001b[1;33m)\u001b[0m\u001b[1;33m:\u001b[0m     \u001b[1;31m# Match Object is truthy\u001b[0m\u001b[1;33m\u001b[0m\u001b[1;33m\u001b[0m\u001b[0m\n\u001b[0m\u001b[0;32m      2\u001b[0m     \u001b[0mprint\u001b[0m\u001b[1;33m(\u001b[0m\u001b[1;34m'Found a match'\u001b[0m\u001b[1;33m)\u001b[0m\u001b[1;33m\u001b[0m\u001b[1;33m\u001b[0m\u001b[0m\n\u001b[0;32m      3\u001b[0m \u001b[1;32melse\u001b[0m\u001b[1;33m:\u001b[0m\u001b[1;33m\u001b[0m\u001b[1;33m\u001b[0m\u001b[0m\n\u001b[0;32m      4\u001b[0m     \u001b[0mprint\u001b[0m\u001b[1;33m(\u001b[0m\u001b[1;34m'No match'\u001b[0m\u001b[1;33m)\u001b[0m\u001b[1;33m\u001b[0m\u001b[1;33m\u001b[0m\u001b[0m\n",
      "\u001b[1;31mNameError\u001b[0m: name 's' is not defined"
     ]
    }
   ],
   "metadata": {}
  },
  {
   "cell_type": "markdown",
   "source": [
    "### Special Metacharacters ---> Superpower"
   ],
   "metadata": {}
  },
  {
   "cell_type": "code",
   "execution_count": 5,
   "source": [
    "from IPython.core.interactiveshell import InteractiveShell\r\n",
    "InteractiveShell.ast_node_interactivity = \"all\"\r\n",
    "\r\n",
    "def regex_generic(search_string, pattern):\r\n",
    "    match = re.match(pattern, search_string)\r\n",
    "\r\n",
    "    if match:\r\n",
    "        template = \"Chuỗi '{}' khớp với mẫu '{}'\"\r\n",
    "    else:\r\n",
    "        template = \"Chuỗi '{}' KHÔNG khớp với mẫu '{}'\"\r\n",
    "\r\n",
    "    print(template.format(search_string, pattern))"
   ],
   "outputs": [],
   "metadata": {}
  },
  {
   "cell_type": "code",
   "execution_count": 6,
   "source": [
    "regex_generic(\"hello world\", \"hello worl\")\r\n",
    "regex_generic(\"hello world\", \"ello world\")"
   ],
   "outputs": [
    {
     "output_type": "stream",
     "name": "stdout",
     "text": [
      "Chuỗi 'hello world' khớp với mẫu 'hello worl'\n",
      "Chuỗi 'hello world' KHÔNG khớp với mẫu 'ello world'\n"
     ]
    }
   ],
   "metadata": {}
  },
  {
   "cell_type": "code",
   "execution_count": null,
   "source": [
    "regex_generic(\"hello world\", \"^hello world$\")   # đầu và đuôi\r\n",
    "re.search('^foo', 'foobar')"
   ],
   "outputs": [],
   "metadata": {}
  },
  {
   "cell_type": "markdown",
   "source": [
    "## Dấu . trong mẫu khớp với bất kỳ ký tự nào (trừ newline)."
   ],
   "metadata": {}
  },
  {
   "cell_type": "code",
   "execution_count": null,
   "source": [
    "regex_generic(\"hello world\", \"hel.o world\")\r\n",
    "regex_generic(\"helpo world\", \"hel.o world\")\r\n",
    "regex_generic(\"hel o world\", \"hel.o world\")\r\n",
    "regex_generic(\"helo world\", \"hel.o world\")"
   ],
   "outputs": [],
   "metadata": {}
  },
  {
   "cell_type": "code",
   "execution_count": 7,
   "source": [
    "# [] chứa 1 tập ký tự được khớp\r\n",
    "re.search('ba[artz]', 'foobarqux')"
   ],
   "outputs": [
    {
     "output_type": "execute_result",
     "data": {
      "text/plain": [
       "<re.Match object; span=(3, 6), match='bar'>"
      ]
     },
     "metadata": {},
     "execution_count": 7
    }
   ],
   "metadata": {}
  },
  {
   "cell_type": "code",
   "execution_count": null,
   "source": [
    "# kết hợp với dấu - thể hiện range ký tự\r\n",
    "regex_generic(\"hello   world\", \"hello [a-z] world\")\r\n",
    "regex_generic(\"hello b world\", \"hello [a-z] world\")\r\n",
    "regex_generic(\"hello 2 world\", \"hello [a-zA-Z0-9] world\")"
   ],
   "outputs": [],
   "metadata": {}
  },
  {
   "cell_type": "code",
   "execution_count": null,
   "source": [
    "# ^ tìm tất cả những ký tự không nằm trong set được mô tả\r\n",
    "re.search('[^0-9]', '12345foo')"
   ],
   "outputs": [],
   "metadata": {}
  },
  {
   "cell_type": "markdown",
   "source": [
    "## Ký tự đặc biệt \\"
   ],
   "metadata": {}
  },
  {
   "cell_type": "code",
   "execution_count": null,
   "source": [
    "regex_generic(\"0.05\", \"0\\.[0-9][0-9]\")\r\n",
    "regex_generic(\"005\", \"0\\.[0-9][0-9]\")\r\n",
    "regex_generic(\"0,05\", \"0\\.[0-9][0-9]\")"
   ],
   "outputs": [],
   "metadata": {}
  },
  {
   "cell_type": "markdown",
   "source": [
    "* \\w tương đương với [a-zA-Z0-9_]\n",
    "* \\W ngược lại \\w, tương đương [^a-zA-Z0-9_]\n",
    "* \\d == [0-9]\n",
    "* \\D tương đương [^0-9]"
   ],
   "metadata": {}
  },
  {
   "cell_type": "code",
   "execution_count": null,
   "source": [
    "regex_generic(\"(abc]\", \"\\(abc\\]\")   # \\ khớp ký tự liền sau\r\n",
    "regex_generic(\" 1a\", \"\\s\\d\\w\")      # \\s thay cho khoảng trắng, \\w thay cho chữ, số hoặc _ và \\d thay cho chữ số\r\n",
    "regex_generic(\"\\t5n\", \"s\\d\\w\")      # \\t thay cho TAB"
   ],
   "outputs": [],
   "metadata": {}
  },
  {
   "cell_type": "code",
   "execution_count": null,
   "source": [
    "re.search('\\W', 'a_1*3Qb')"
   ],
   "outputs": [],
   "metadata": {}
  },
  {
   "cell_type": "code",
   "execution_count": null,
   "source": [
    "re.search('\\S', '  \\n foo  \\n  ')       # \\S ngược lại với \\s: khớp ký tự không phải khoảng trắng"
   ],
   "outputs": [],
   "metadata": {}
  },
  {
   "cell_type": "markdown",
   "source": [
    "### Raw string\n",
    "Dùng r'' string cho các pattern regex nếu chứa \\ hoặc /."
   ],
   "metadata": {}
  },
  {
   "cell_type": "markdown",
   "source": [
    "## Khớp nhiều ký tự"
   ],
   "metadata": {}
  },
  {
   "cell_type": "code",
   "execution_count": null,
   "source": [
    "regex_generic(\"hello\", \"hel*o\")\r\n",
    "regex_generic(\"heo\", \"hel*o\")              # ký tự liền trước xuất hiện 0 hoặc nhiều lần\r\n",
    "regex_generic(\"hellllllo\", \"hel*o\")"
   ],
   "outputs": [],
   "metadata": {}
  },
  {
   "cell_type": "code",
   "execution_count": null,
   "source": [
    "# thú vị hơn khi ta dùng * với nhóm ký tự hoặc .\r\n",
    "regex_generic(\"A string.\", \"[A-Z][a-z]* [a-z]*\\.\")          # chỉ cho phép 1 khoảng trắng (2 từ)\r\n",
    "regex_generic(\"No .\", \"[A-Z][a-z]* [a-z]*\\.\")\r\n",
    "regex_generic(\"\", \"[a-z]*.*\")\r\n"
   ],
   "outputs": [],
   "metadata": {}
  },
  {
   "cell_type": "code",
   "execution_count": null,
   "source": [
    "regex_generic(\"0.4\", \"\\d+\\.\\d+\")            # dấu + tương tự dấu * nhưng cần ít nhất 1 lần xuất hiện\r\n",
    "regex_generic(\"1.002\", \"\\d+\\.\\d+\")\r\n",
    "regex_generic(\"1.\", \"\\d+\\.\\d+\")\r\n",
    "regex_generic(\"01%\", \"\\d?\\d%\")              # dấu ? cho phép 0 hoặc 1 lần nhưng không được hơn\r\n",
    "regex_generic(\"99%\", \"\\d?\\d%\")\r\n",
    "regex_generic(\"999%\", \"\\d?\\d%\")"
   ],
   "outputs": [],
   "metadata": {}
  },
  {
   "cell_type": "markdown",
   "source": [
    "### Non-greedy (lazy version) với ?"
   ],
   "metadata": {}
  },
  {
   "cell_type": "code",
   "execution_count": null,
   "source": [
    "re.search('<.*>', '%<foo> <bar> <baz>%')        # khớp chuỗi dài nhất có thể"
   ],
   "outputs": [],
   "metadata": {}
  },
  {
   "cell_type": "code",
   "execution_count": null,
   "source": [
    "re.search('<.*?>', '%<foo> <bar> <baz>%')       # thêm dấu ? để khớp chuỗi ngắn nhất"
   ],
   "outputs": [],
   "metadata": {}
  },
  {
   "cell_type": "code",
   "execution_count": null,
   "source": [
    "re.search('ba?', 'baaaa')       # dấu ? khớp 0 hoặc 1 lần\r\n",
    "# vs\r\n",
    "re.search('ba??', 'baaaa')"
   ],
   "outputs": [],
   "metadata": {}
  },
  {
   "cell_type": "markdown",
   "source": [
    "## Nhóm các mẫu lại với nhau"
   ],
   "metadata": {}
  },
  {
   "cell_type": "code",
   "execution_count": 8,
   "source": [
    "regex_generic(\"abccc\", \"abc{3}\")\r\n",
    "regex_generic(\"abccc\", \"(abc){3}\")          # dùng () để nhóm lại nhiều ký tự như một\r\n",
    "regex_generic(\"abcabcabc\", \"(abc){3}\")"
   ],
   "outputs": [
    {
     "output_type": "stream",
     "name": "stdout",
     "text": [
      "Chuỗi 'abccc' khớp với mẫu 'abc{3}'\n",
      "Chuỗi 'abccc' KHÔNG khớp với mẫu '(abc){3}'\n",
      "Chuỗi 'abcabcabc' khớp với mẫu '(abc){3}'\n"
     ]
    }
   ],
   "metadata": {}
  },
  {
   "cell_type": "code",
   "execution_count": null,
   "source": [
    "# kết hợp nhóm và dấu lặp lại bắt đầu cho ta muôn vàn khả năng. Một câu tiếng Anh đơn giản có thể được khớp như sau\r\n",
    "regex_generic(\"Eat.\", \"[A-Z][a-z]*( [a-z]+)*\\.$\")\r\n",
    "regex_generic(\"Eat more good food.\", \"[A-Z][a-z]*( [a-z]+)*\\.$\")\r\n",
    "regex_generic(\"A good meal.\", \"[A-Z][a-z]*( [a-z]+)*\\.$\")"
   ],
   "outputs": [],
   "metadata": {}
  },
  {
   "cell_type": "markdown",
   "source": [
    "## Lấy ra những giá trị cần thiết từ RE\n",
    "Khi nhóm biểu thức regex, ta có thể áp dụng metacharacter cho toàn bộ nhóm như 1 đơn vị. Và cho phép lấy ra nhóm con khớp với pattern theo nhiều cách khác nhau."
   ],
   "metadata": {}
  },
  {
   "cell_type": "code",
   "execution_count": 9,
   "source": [
    "pattern = \"^[a-zA-Z.]+@([a-z.]*\\.[a-z]+)$\" \r\n",
    "search_string = \"some.user@example.com\" \r\n",
    "match = re.match(pattern, search_string) \r\n",
    " \r\n",
    "if match: \r\n",
    "    domain = match.groups()[0] \r\n",
    "    print(domain) "
   ],
   "outputs": [
    {
     "output_type": "stream",
     "name": "stdout",
     "text": [
      "example.com\n"
     ]
    }
   ],
   "metadata": {}
  },
  {
   "cell_type": "code",
   "execution_count": 11,
   "source": [
    "import re\r\n",
    "re.findall('a.', 'abacadefagah')            # Không có nhóm (), trả ra các chuỗi con khớp với mẫu"
   ],
   "outputs": [
    {
     "output_type": "execute_result",
     "data": {
      "text/plain": [
       "['ab', 'ac', 'ad', 'ag', 'ah']"
      ]
     },
     "metadata": {},
     "execution_count": 11
    }
   ],
   "metadata": {}
  },
  {
   "cell_type": "code",
   "execution_count": 24,
   "source": [
    "import re\r\n",
    "a = re.findall('[a-zA-Z0-9]*\\d', 'tHE1 fOX iS cOMING2 fOR tHE4 cHICKEN')\r\n",
    "list = []\r\n",
    "for i in a:\r\n",
    "    if i.isalnum():\r\n",
    "        list.append(i)\r\n",
    "print(list)\r\n",
    "\r\n"
   ],
   "outputs": [
    {
     "output_type": "stream",
     "name": "stdout",
     "text": [
      "['tHE1', 'cOMING2', 'tHE4']\n"
     ]
    }
   ],
   "metadata": {}
  },
  {
   "cell_type": "code",
   "execution_count": 12,
   "source": [
    "re.findall('a(.)', 'abacadefagah')          # Có 1 nhóm, trả ra một list các giá trị trong nhóm"
   ],
   "outputs": [
    {
     "output_type": "execute_result",
     "data": {
      "text/plain": [
       "['b', 'c', 'd', 'g', 'h']"
      ]
     },
     "metadata": {},
     "execution_count": 12
    }
   ],
   "metadata": {}
  },
  {
   "cell_type": "code",
   "execution_count": 13,
   "source": [
    "re.findall('(a)(.)', 'abacadefagah')        # Có nhiều nhóm, trả ra list những tuple mà mỗi tuple chứa lần lượt các giá trị khớp với nhóm"
   ],
   "outputs": [
    {
     "output_type": "execute_result",
     "data": {
      "text/plain": [
       "[('a', 'b'), ('a', 'c'), ('a', 'd'), ('a', 'g'), ('a', 'h')]"
      ]
     },
     "metadata": {},
     "execution_count": 13
    }
   ],
   "metadata": {}
  },
  {
   "cell_type": "code",
   "execution_count": 14,
   "source": [
    "re.findall('((a)(.))', 'abacadefagah')      #   tương tự trên, trả ra nhóm cha và các nhóm con."
   ],
   "outputs": [
    {
     "output_type": "execute_result",
     "data": {
      "text/plain": [
       "[('ab', 'a', 'b'),\n",
       " ('ac', 'a', 'c'),\n",
       " ('ad', 'a', 'd'),\n",
       " ('ag', 'a', 'g'),\n",
       " ('ah', 'a', 'h')]"
      ]
     },
     "metadata": {},
     "execution_count": 14
    }
   ],
   "metadata": {}
  },
  {
   "cell_type": "code",
   "execution_count": 15,
   "source": [
    "m = re.search('(a)(.)', 'abacadefagah') \r\n",
    "m.groups()"
   ],
   "outputs": [
    {
     "output_type": "execute_result",
     "data": {
      "text/plain": [
       "('a', 'b')"
      ]
     },
     "metadata": {},
     "execution_count": 15
    }
   ],
   "metadata": {}
  },
  {
   "cell_type": "code",
   "execution_count": 16,
   "source": [
    "m = re.search('((a)(.))', 'abacadefagah') \r\n",
    "m.group()"
   ],
   "outputs": [
    {
     "output_type": "execute_result",
     "data": {
      "text/plain": [
       "'ab'"
      ]
     },
     "metadata": {},
     "execution_count": 16
    }
   ],
   "metadata": {}
  },
  {
   "cell_type": "code",
   "execution_count": 17,
   "source": [
    "# Một vài ví dụ thực tiễn\r\n",
    "# Ngày tháng năm    \"\\d{2}-\\d{2}-\\d{4}\"\r\n",
    "phoneNumRegex = re.compile(r'\\d\\d\\d-\\d\\d\\d-\\d\\d\\d\\d')\r\n",
    "match_obj = phoneNumRegex.search('My number is 415-555-4242.')\r\n",
    "print('Phone number found: ' + match_obj.group())"
   ],
   "outputs": [
    {
     "output_type": "stream",
     "name": "stdout",
     "text": [
      "Phone number found: 415-555-4242\n"
     ]
    }
   ],
   "metadata": {}
  },
  {
   "cell_type": "markdown",
   "source": [
    "## Các tính năng khác:\n",
    "* Backreferences\n",
    "```\n",
    "regex = r'(\\w+),\\1'\n",
    "m = re.search(regex, 'foo,foo')\n",
    "```\n",
    "* Lookahead and Lookbehind (non-captured). Lookbehind chỉ cho phép số lượng ký tự biết trước\n",
    "```\n",
    "re.search('foo(?=[a-z])', 'foobar')\n",
    "# vs\n",
    "re.search('foo([a-z])', 'foobar')\n",
    "\n",
    "# 3 ký tự a đứng trước def\n",
    "re.search('(?<=a{3})def', 'aaadef')\n",
    "```\n",
    "* Dùng flags\n",
    "```\n",
    "re.IGNORECASE\n",
    "re.MULTILINE\n",
    "re.VERBOSE      # allow whitespace và comment trong regex\n",
    "```"
   ],
   "metadata": {}
  },
  {
   "cell_type": "code",
   "execution_count": null,
   "source": [
    "# regex = r'^(\\(\\d{3}\\))?\\s*\\d{3}[-.]\\d{4}$'\r\n",
    "regex = r'''^               # Start of string\r\n",
    "             (\\(\\d{3}\\))?    # Optional area code\r\n",
    "             \\s*             # Optional whitespace\r\n",
    "             \\d{3}           # Three-digit prefix\r\n",
    "             [-.]            # Separator character\r\n",
    "             \\d{4}           # Four-digit line number\r\n",
    "             $               # Anchor at end of string\r\n",
    "             '''\r\n",
    "re.search(regex, '414-9229', re.VERBOSE)\r\n",
    "re.search(regex, '(712)414-9229', re.X)"
   ],
   "outputs": [],
   "metadata": {}
  },
  {
   "cell_type": "markdown",
   "source": [
    "### match() và search()"
   ],
   "metadata": {}
  },
  {
   "cell_type": "code",
   "execution_count": 20,
   "source": [
    "re.search(r'\\d+', 'foo123bar')"
   ],
   "outputs": [
    {
     "output_type": "execute_result",
     "data": {
      "text/plain": [
       "<re.Match object; span=(3, 6), match='123'>"
      ]
     },
     "metadata": {},
     "execution_count": 20
    }
   ],
   "metadata": {}
  },
  {
   "cell_type": "code",
   "execution_count": null,
   "source": [
    "print(re.match(r'\\d+', 'foo123bar'))        # match (chỉ khớp ở đầu chuỗi)"
   ],
   "outputs": [],
   "metadata": {}
  },
  {
   "cell_type": "markdown",
   "source": [
    "## References\n",
    "* [8 regular expression nên biết](https://code.tutsplus.com/tutorials/8-regular-expressions-you-should-know--net-6149)\n",
    "* [CheatSheet](https://www.shortcutfoo.com/app/dojos/python-regex/cheatsheet)\n",
    "* [Awesome Regex](https://github.com/aloisdg/awesome-regex)"
   ],
   "metadata": {}
  },
  {
   "cell_type": "code",
   "execution_count": 25,
   "source": [
    "import re\r\n",
    "pattern = \"^([a-zA-Z.]+)@([a-z.]+\\.[a-z]{2,3})\"\r\n",
    "search_string = \"\"\"tgg some.user@example.com\r\n",
    "hang.nguyen@onemount.vn fsdfassda fsdf\r\n",
    "\"\"\"\r\n",
    "match = re.search(pattern, search_string, re.MULTILINE)\r\n",
    "\r\n",
    "if match:\r\n",
    "    domain = match.groups()[1]\r\n",
    "    print(domain)\r\n",
    "    print(match.groups()[0])"
   ],
   "outputs": [
    {
     "output_type": "stream",
     "name": "stdout",
     "text": [
      "onemount.vn\n",
      "hang.nguyen\n"
     ]
    }
   ],
   "metadata": {
    "collapsed": false,
    "pycharm": {
     "name": "#%%\n"
    }
   }
  }
 ],
 "metadata": {
  "orig_nbformat": 4,
  "language_info": {
   "name": "python",
   "version": "3.7.6",
   "mimetype": "text/x-python",
   "codemirror_mode": {
    "name": "ipython",
    "version": 3
   },
   "pygments_lexer": "ipython3",
   "nbconvert_exporter": "python",
   "file_extension": ".py"
  },
  "kernelspec": {
   "name": "python3",
   "display_name": "Python 3.7.6 64-bit (system)"
  },
  "interpreter": {
   "hash": "04635d289a519a1410467dd0afb0db42f9184808881ca68b2eb5a687a20a5a94"
  }
 },
 "nbformat": 4,
 "nbformat_minor": 2
}