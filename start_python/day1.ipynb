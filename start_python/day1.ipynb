{
 "cells": [
  {
   "cell_type": "code",
   "execution_count": 6,
   "metadata": {
    "collapsed": true
   },
   "outputs": [
    {
     "data": {
      "text/plain": "int"
     },
     "execution_count": 6,
     "metadata": {},
     "output_type": "execute_result"
    }
   ],
   "source": [
    "80//7\n",
    "\n",
    "True + True\n",
    "\n",
    "True * 4\n",
    "\n",
    "# Logical Operation\n",
    "56==56\n"
   ]
  },
  {
   "cell_type": "code",
   "execution_count": 7,
   "outputs": [
    {
     "data": {
      "text/plain": "int"
     },
     "execution_count": 7,
     "metadata": {},
     "output_type": "execute_result"
    }
   ],
   "source": [
    "int_var = 1\n",
    "type(int_var)\n"
   ],
   "metadata": {
    "collapsed": false,
    "pycharm": {
     "name": "#%%\n"
    }
   }
  },
  {
   "cell_type": "code",
   "execution_count": 9,
   "outputs": [
    {
     "data": {
      "text/plain": "'1'"
     },
     "execution_count": 9,
     "metadata": {},
     "output_type": "execute_result"
    }
   ],
   "source": [
    "str(int_var)"
   ],
   "metadata": {
    "collapsed": false,
    "pycharm": {
     "name": "#%%\n"
    }
   }
  },
  {
   "cell_type": "code",
   "execution_count": 11,
   "outputs": [
    {
     "data": {
      "text/plain": "3"
     },
     "execution_count": 11,
     "metadata": {},
     "output_type": "execute_result"
    }
   ],
   "source": [
    "float_var = 3.5\n",
    "int(float_var)\n"
   ],
   "metadata": {
    "collapsed": false,
    "pycharm": {
     "name": "#%%\n"
    }
   }
  },
  {
   "cell_type": "code",
   "execution_count": 12,
   "outputs": [
    {
     "data": {
      "text/plain": "'He said \"He loved me\"'"
     },
     "execution_count": 12,
     "metadata": {},
     "output_type": "execute_result"
    }
   ],
   "source": [
    "#Define string\n",
    "\"I'm Thuy\"\n",
    "\"He said \\\"He loved me\\\"\""
   ],
   "metadata": {
    "collapsed": false,
    "pycharm": {
     "name": "#%%\n"
    }
   }
  },
  {
   "cell_type": "code",
   "execution_count": null,
   "outputs": [
    {
     "ename": "KeyboardInterrupt",
     "evalue": "",
     "output_type": "error",
     "traceback": [
      "\u001B[1;31m---------------------------------------------------------------------------\u001B[0m",
      "\u001B[1;31mKeyboardInterrupt\u001B[0m                         Traceback (most recent call last)",
      "\u001B[1;32mC:\\Users\\THUY~1.NGU\\AppData\\Local\\Temp/ipykernel_6500/2466707431.py\u001B[0m in \u001B[0;36m<module>\u001B[1;34m\u001B[0m\n\u001B[0;32m      5\u001B[0m \u001B[0mpair\u001B[0m \u001B[1;33m=\u001B[0m \u001B[1;33m[\u001B[0m\u001B[1;33m]\u001B[0m\u001B[1;33m\u001B[0m\u001B[1;33m\u001B[0m\u001B[0m\n\u001B[0;32m      6\u001B[0m \u001B[1;32mwhile\u001B[0m \u001B[0mi\u001B[0m \u001B[1;33m<\u001B[0m \u001B[0mj\u001B[0m\u001B[1;33m:\u001B[0m\u001B[1;33m\u001B[0m\u001B[1;33m\u001B[0m\u001B[0m\n\u001B[1;32m----> 7\u001B[1;33m     \u001B[0ms\u001B[0m \u001B[1;33m=\u001B[0m \u001B[0mA\u001B[0m\u001B[1;33m[\u001B[0m\u001B[0mi\u001B[0m\u001B[1;33m]\u001B[0m\u001B[1;33m+\u001B[0m\u001B[0mA\u001B[0m\u001B[1;33m[\u001B[0m\u001B[0mj\u001B[0m\u001B[1;33m]\u001B[0m\u001B[1;33m\u001B[0m\u001B[1;33m\u001B[0m\u001B[0m\n\u001B[0m\u001B[0;32m      8\u001B[0m     \u001B[1;32mif\u001B[0m \u001B[0ms\u001B[0m \u001B[1;33m==\u001B[0m \u001B[0mB\u001B[0m\u001B[1;33m:\u001B[0m\u001B[1;33m\u001B[0m\u001B[1;33m\u001B[0m\u001B[0m\n\u001B[0;32m      9\u001B[0m         \u001B[0mpair\u001B[0m\u001B[1;33m.\u001B[0m\u001B[0mappend\u001B[0m\u001B[1;33m(\u001B[0m\u001B[0mA\u001B[0m\u001B[1;33m[\u001B[0m\u001B[0mi\u001B[0m\u001B[1;33m]\u001B[0m\u001B[1;33m,\u001B[0m\u001B[0mA\u001B[0m\u001B[1;33m[\u001B[0m\u001B[0mj\u001B[0m\u001B[1;33m]\u001B[0m\u001B[1;33m)\u001B[0m\u001B[1;33m\u001B[0m\u001B[1;33m\u001B[0m\u001B[0m\n",
      "\u001B[1;31mKeyboardInterrupt\u001B[0m: "
     ]
    }
   ],
   "source": [
    "A = [3,6,7,9,11,12]\n",
    "B = 18\n",
    "i = 0\n",
    "j = len(A)-1\n",
    "pair = []\n",
    "while i < j:\n",
    "    s = A[i]+A[j]\n",
    "    if s == B:\n",
    "        pair.append(A[i],A[j])\n",
    "        break\n",
    "print(pair)"
   ],
   "metadata": {
    "collapsed": false,
    "pycharm": {
     "name": "#%%\n"
    }
   }
  },
  {
   "cell_type": "code",
   "execution_count": 4,
   "outputs": [
    {
     "name": "stdout",
     "output_type": "stream",
     "text": [
      "Capital Letters:  2\n",
      "Lowercase Letters:  2\n",
      "Digits:  3\n"
     ]
    }
   ],
   "source": [
    "def count_char_type(s):\n",
    "    # return sum(i.isupper() for i in s)\n",
    "    print(\"Capital Letters: \", sum(1 for c in s if c.isupper()))\n",
    "    # return sum(i.islower() for i in s)\n",
    "    print(\"Lowercase Letters: \", sum(1 for c in s if c.isupper()))\n",
    "    print(\"Digits: \", sum(1 for c in s if c.isdigit()))\n",
    "count_char_type(\"Hello World! 123\")"
   ],
   "metadata": {
    "collapsed": false,
    "pycharm": {
     "name": "#%%\n"
    }
   }
  },
  {
   "cell_type": "code",
   "execution_count": 5,
   "outputs": [
    {
     "name": "stdout",
     "output_type": "stream",
     "text": [
      "Upper case: 2\n",
      "Lower case: 8\n",
      "Digit: 3\n"
     ]
    }
   ],
   "source": [
    "def countUpperAndLowerCase(sentence):\n",
    "    upper = 0\n",
    "    lower = 0\n",
    "    digit = 0\n",
    "    for i in sentence:\n",
    "        if i >='A' and i <= 'Z':\n",
    "            upper += 1\n",
    "        elif i >= 'a' and i <= 'z':\n",
    "            lower += 1\n",
    "        elif i >= '0' and i <= '9':\n",
    "            digit += 1\n",
    "    print(\"Upper case: \" + str(upper))\n",
    "    print(\"Lower case: \" + str(lower))\n",
    "    print(\"Digit: \" + str(digit))\n",
    "countUpperAndLowerCase(\"Hello World! 123\")"
   ],
   "metadata": {
    "collapsed": false,
    "pycharm": {
     "name": "#%%\n"
    }
   }
  },
  {
   "cell_type": "code",
   "execution_count": 9,
   "outputs": [
    {
     "name": "stdout",
     "output_type": "stream",
     "text": [
      "8\n",
      "10\n"
     ]
    },
    {
     "data": {
      "text/plain": "{'LETTERS': 10, 'CASE': {'UPPERCASE': 2, 'LOWER': 8}, 'DIGIT': 3}"
     },
     "execution_count": 9,
     "metadata": {},
     "output_type": "execute_result"
    }
   ],
   "source": [
    "def count_char_type():\n",
    "    str_dauvao  = \"Hello World! 123\"\n",
    "    count_uppercase = 0\n",
    "    count_lowercase = 0\n",
    "    count_digit = 0\n",
    "    count_alpha = 0\n",
    "    for i in str_dauvao:\n",
    "        if i.isalpha():\n",
    "            count_alpha+=1\n",
    "        if i.islower():\n",
    "            count_lowercase+=1\n",
    "        elif i.isupper():\n",
    "            count_uppercase+=1\n",
    "        elif i.isnumeric():\n",
    "            count_digit +=1\n",
    "    print (str(count_lowercase))\n",
    "    print (str(count_alpha))\n",
    "    a_dictionary = {\"LETTERS\": count_alpha, \"CASE\": {\"UPPERCASE\":count_uppercase, \"LOWER\": count_lowercase}, \"DIGIT\":count_digit}\n",
    "    return a_dictionary\n",
    "count_char_type()"
   ],
   "metadata": {
    "collapsed": false,
    "pycharm": {
     "name": "#%%\n"
    }
   }
  },
  {
   "cell_type": "code",
   "execution_count": 11,
   "outputs": [
    {
     "name": "stdout",
     "output_type": "stream",
     "text": [
      "Letter: 10\n",
      "Upper case: 2\n",
      "Lower case: 8\n",
      "Digit: 3\n"
     ]
    },
    {
     "data": {
      "text/plain": "{'LETTERS': 10, 'CASE': {'UPPERCASE': 2, 'LOWER': 8}, 'DIGIT': 3}"
     },
     "execution_count": 11,
     "metadata": {},
     "output_type": "execute_result"
    }
   ],
   "source": [
    "def countUpperAndLowerCase(sentence):\n",
    "    upper = 0\n",
    "    lower = 0\n",
    "    digit = 0\n",
    "    letter = 0\n",
    "    for i in sentence:\n",
    "        if i >='A' and i <= 'Z':\n",
    "            upper += 1\n",
    "        elif i >= 'a' and i <= 'z':\n",
    "            lower += 1\n",
    "        elif i >= '0' and i <= '9':\n",
    "            digit += 1\n",
    "        letter = upper + lower\n",
    "    print(\"Letter: \" + str(letter))\n",
    "    print(\"Upper case: \" + str(upper))\n",
    "    print(\"Lower case: \" + str(lower))\n",
    "    print(\"Digit: \" + str(digit))\n",
    "    char_dict = {\"LETTERS\": letter, \"CASE\": {\"UPPERCASE\": upper, \"LOWER\": lower}, \"DIGIT\": digit}\n",
    "    return char_dict\n",
    "countUpperAndLowerCase(\"Hello World! 123\")"
   ],
   "metadata": {
    "collapsed": false,
    "pycharm": {
     "name": "#%%\n"
    }
   }
  }
 ],
 "metadata": {
  "kernelspec": {
   "display_name": "Python 3",
   "language": "python",
   "name": "python3"
  },
  "language_info": {
   "codemirror_mode": {
    "name": "ipython",
    "version": 2
   },
   "file_extension": ".py",
   "mimetype": "text/x-python",
   "name": "python",
   "nbconvert_exporter": "python",
   "pygments_lexer": "ipython2",
   "version": "2.7.6"
  }
 },
 "nbformat": 4,
 "nbformat_minor": 0
}